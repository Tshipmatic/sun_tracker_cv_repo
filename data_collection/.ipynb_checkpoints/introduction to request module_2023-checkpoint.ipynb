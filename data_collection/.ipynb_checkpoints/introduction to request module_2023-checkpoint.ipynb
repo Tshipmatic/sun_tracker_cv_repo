{
 "cells": [
  {
   "cell_type": "code",
   "execution_count": 1,
   "id": "fb5144a3",
   "metadata": {},
   "outputs": [],
   "source": [
    "from selenium import webdriver\n",
    "from selenium.webdriver.common.keys import Keys\n",
    "from selenium.webdriver.common.by import By\n",
    "from selenium.webdriver.support.wait import WebDriverWait\n",
    "from selenium.webdriver.support import expected_conditions as EC\n",
    "\n",
    "\n",
    "import requests, json, time\n",
    "from bs4 import BeautifulSoup"
   ]
  },
  {
   "cell_type": "code",
   "execution_count": 96,
   "id": "e5158cc8",
   "metadata": {},
   "outputs": [],
   "source": [
    "# https://www.youtube.com/watch?v=U0WMFjnbb4I   \n",
    "\n",
    "def jpg_url(driver, delay):\n",
    "\n",
    "    try:\n",
    "        inspect2 =  WebDriverWait(driver, delay).until(EC.presence_of_element_located((By.CLASS_NAME, \"richImgLnk\")))\n",
    "        inspect2.click()\n",
    "        # https://www.youtube.com/watch?v=U0WMFjnbb4I   \n",
    "        # pic : grabs img src\n",
    "        pic = driver.find_element(By.XPATH,\"//div[@role='main']//child::img[contains(@src,'.jp')]\")\n",
    "        # isolates the url\n",
    "        src_link = pic.get_attribute('src')\n",
    "        return src_link\n",
    "        \n",
    "    finally:\n",
    "        driver.close()"
   ]
  },
  {
   "cell_type": "code",
   "execution_count": 97,
   "id": "5c296137",
   "metadata": {},
   "outputs": [
    {
     "ename": "NoSuchWindowException",
     "evalue": "Message: Browsing context has been discarded\nStacktrace:\nRemoteError@chrome://remote/content/shared/RemoteError.sys.mjs:8:8\nWebDriverError@chrome://remote/content/shared/webdriver/Errors.sys.mjs:180:5\nNoSuchWindowError@chrome://remote/content/shared/webdriver/Errors.sys.mjs:434:5\nassert.that/<@chrome://remote/content/shared/webdriver/Assert.sys.mjs:485:13\nassert.open@chrome://remote/content/shared/webdriver/Assert.sys.mjs:147:4\nGeckoDriver.prototype.maximizeWindow@chrome://remote/content/marionette/driver.sys.mjs:2481:15\ndespatch@chrome://remote/content/marionette/server.sys.mjs:303:40\nexecute@chrome://remote/content/marionette/server.sys.mjs:276:16\nonPacket/<@chrome://remote/content/marionette/server.sys.mjs:249:20\nonPacket@chrome://remote/content/marionette/server.sys.mjs:250:9\n_onJSONObjectReady/<@chrome://remote/content/marionette/transport.sys.mjs:496:20\n",
     "output_type": "error",
     "traceback": [
      "\u001b[0;31m---------------------------------------------------------------------------\u001b[0m",
      "\u001b[0;31mNoSuchWindowException\u001b[0m                     Traceback (most recent call last)",
      "\u001b[0;32m/tmp/ipykernel_380803/35983277.py\u001b[0m in \u001b[0;36m<module>\u001b[0;34m\u001b[0m\n\u001b[1;32m      3\u001b[0m \u001b[0mdriver\u001b[0m \u001b[0;34m=\u001b[0m \u001b[0mwebdriver\u001b[0m\u001b[0;34m.\u001b[0m\u001b[0mFirefox\u001b[0m\u001b[0;34m(\u001b[0m\u001b[0;34m)\u001b[0m\u001b[0;34m\u001b[0m\u001b[0;34m\u001b[0m\u001b[0m\n\u001b[1;32m      4\u001b[0m \u001b[0mdriver\u001b[0m\u001b[0;34m.\u001b[0m\u001b[0mget\u001b[0m\u001b[0;34m(\u001b[0m\u001b[0murl\u001b[0m\u001b[0;34m)\u001b[0m\u001b[0;34m\u001b[0m\u001b[0;34m\u001b[0m\u001b[0m\n\u001b[0;32m----> 5\u001b[0;31m \u001b[0mdriver\u001b[0m\u001b[0;34m.\u001b[0m\u001b[0mmaximize_window\u001b[0m\u001b[0;34m(\u001b[0m\u001b[0;34m)\u001b[0m\u001b[0;34m\u001b[0m\u001b[0;34m\u001b[0m\u001b[0m\n\u001b[0m\u001b[1;32m      6\u001b[0m \u001b[0;34m\u001b[0m\u001b[0m\n\u001b[1;32m      7\u001b[0m \u001b[0;32mtry\u001b[0m\u001b[0;34m:\u001b[0m\u001b[0;34m\u001b[0m\u001b[0;34m\u001b[0m\u001b[0m\n",
      "\u001b[0;32m~/miniconda3/envs/tf_38gpu/lib/python3.8/site-packages/selenium/webdriver/remote/webdriver.py\u001b[0m in \u001b[0;36mmaximize_window\u001b[0;34m(self)\u001b[0m\n\u001b[1;32m    590\u001b[0m         \u001b[0;34m\"\"\"Maximizes the current window that webdriver is using.\"\"\"\u001b[0m\u001b[0;34m\u001b[0m\u001b[0;34m\u001b[0m\u001b[0m\n\u001b[1;32m    591\u001b[0m         \u001b[0mcommand\u001b[0m \u001b[0;34m=\u001b[0m \u001b[0mCommand\u001b[0m\u001b[0;34m.\u001b[0m\u001b[0mW3C_MAXIMIZE_WINDOW\u001b[0m\u001b[0;34m\u001b[0m\u001b[0;34m\u001b[0m\u001b[0m\n\u001b[0;32m--> 592\u001b[0;31m         \u001b[0mself\u001b[0m\u001b[0;34m.\u001b[0m\u001b[0mexecute\u001b[0m\u001b[0;34m(\u001b[0m\u001b[0mcommand\u001b[0m\u001b[0;34m,\u001b[0m \u001b[0;32mNone\u001b[0m\u001b[0;34m)\u001b[0m\u001b[0;34m\u001b[0m\u001b[0;34m\u001b[0m\u001b[0m\n\u001b[0m\u001b[1;32m    593\u001b[0m \u001b[0;34m\u001b[0m\u001b[0m\n\u001b[1;32m    594\u001b[0m     \u001b[0;32mdef\u001b[0m \u001b[0mfullscreen_window\u001b[0m\u001b[0;34m(\u001b[0m\u001b[0mself\u001b[0m\u001b[0;34m)\u001b[0m \u001b[0;34m->\u001b[0m \u001b[0;32mNone\u001b[0m\u001b[0;34m:\u001b[0m\u001b[0;34m\u001b[0m\u001b[0;34m\u001b[0m\u001b[0m\n",
      "\u001b[0;32m~/miniconda3/envs/tf_38gpu/lib/python3.8/site-packages/selenium/webdriver/remote/webdriver.py\u001b[0m in \u001b[0;36mexecute\u001b[0;34m(self, driver_command, params)\u001b[0m\n\u001b[1;32m    438\u001b[0m         \u001b[0mresponse\u001b[0m \u001b[0;34m=\u001b[0m \u001b[0mself\u001b[0m\u001b[0;34m.\u001b[0m\u001b[0mcommand_executor\u001b[0m\u001b[0;34m.\u001b[0m\u001b[0mexecute\u001b[0m\u001b[0;34m(\u001b[0m\u001b[0mdriver_command\u001b[0m\u001b[0;34m,\u001b[0m \u001b[0mparams\u001b[0m\u001b[0;34m)\u001b[0m\u001b[0;34m\u001b[0m\u001b[0;34m\u001b[0m\u001b[0m\n\u001b[1;32m    439\u001b[0m         \u001b[0;32mif\u001b[0m \u001b[0mresponse\u001b[0m\u001b[0;34m:\u001b[0m\u001b[0;34m\u001b[0m\u001b[0;34m\u001b[0m\u001b[0m\n\u001b[0;32m--> 440\u001b[0;31m             \u001b[0mself\u001b[0m\u001b[0;34m.\u001b[0m\u001b[0merror_handler\u001b[0m\u001b[0;34m.\u001b[0m\u001b[0mcheck_response\u001b[0m\u001b[0;34m(\u001b[0m\u001b[0mresponse\u001b[0m\u001b[0;34m)\u001b[0m\u001b[0;34m\u001b[0m\u001b[0;34m\u001b[0m\u001b[0m\n\u001b[0m\u001b[1;32m    441\u001b[0m             \u001b[0mresponse\u001b[0m\u001b[0;34m[\u001b[0m\u001b[0;34m\"value\"\u001b[0m\u001b[0;34m]\u001b[0m \u001b[0;34m=\u001b[0m \u001b[0mself\u001b[0m\u001b[0;34m.\u001b[0m\u001b[0m_unwrap_value\u001b[0m\u001b[0;34m(\u001b[0m\u001b[0mresponse\u001b[0m\u001b[0;34m.\u001b[0m\u001b[0mget\u001b[0m\u001b[0;34m(\u001b[0m\u001b[0;34m\"value\"\u001b[0m\u001b[0;34m,\u001b[0m \u001b[0;32mNone\u001b[0m\u001b[0;34m)\u001b[0m\u001b[0;34m)\u001b[0m\u001b[0;34m\u001b[0m\u001b[0;34m\u001b[0m\u001b[0m\n\u001b[1;32m    442\u001b[0m             \u001b[0;32mreturn\u001b[0m \u001b[0mresponse\u001b[0m\u001b[0;34m\u001b[0m\u001b[0;34m\u001b[0m\u001b[0m\n",
      "\u001b[0;32m~/miniconda3/envs/tf_38gpu/lib/python3.8/site-packages/selenium/webdriver/remote/errorhandler.py\u001b[0m in \u001b[0;36mcheck_response\u001b[0;34m(self, response)\u001b[0m\n\u001b[1;32m    243\u001b[0m                 \u001b[0malert_text\u001b[0m \u001b[0;34m=\u001b[0m \u001b[0mvalue\u001b[0m\u001b[0;34m[\u001b[0m\u001b[0;34m\"alert\"\u001b[0m\u001b[0;34m]\u001b[0m\u001b[0;34m.\u001b[0m\u001b[0mget\u001b[0m\u001b[0;34m(\u001b[0m\u001b[0;34m\"text\"\u001b[0m\u001b[0;34m)\u001b[0m\u001b[0;34m\u001b[0m\u001b[0;34m\u001b[0m\u001b[0m\n\u001b[1;32m    244\u001b[0m             \u001b[0;32mraise\u001b[0m \u001b[0mexception_class\u001b[0m\u001b[0;34m(\u001b[0m\u001b[0mmessage\u001b[0m\u001b[0;34m,\u001b[0m \u001b[0mscreen\u001b[0m\u001b[0;34m,\u001b[0m \u001b[0mstacktrace\u001b[0m\u001b[0;34m,\u001b[0m \u001b[0malert_text\u001b[0m\u001b[0;34m)\u001b[0m  \u001b[0;31m# type: ignore[call-arg]  # mypy is not smart enough here\u001b[0m\u001b[0;34m\u001b[0m\u001b[0;34m\u001b[0m\u001b[0m\n\u001b[0;32m--> 245\u001b[0;31m         \u001b[0;32mraise\u001b[0m \u001b[0mexception_class\u001b[0m\u001b[0;34m(\u001b[0m\u001b[0mmessage\u001b[0m\u001b[0;34m,\u001b[0m \u001b[0mscreen\u001b[0m\u001b[0;34m,\u001b[0m \u001b[0mstacktrace\u001b[0m\u001b[0;34m)\u001b[0m\u001b[0;34m\u001b[0m\u001b[0;34m\u001b[0m\u001b[0m\n\u001b[0m",
      "\u001b[0;31mNoSuchWindowException\u001b[0m: Message: Browsing context has been discarded\nStacktrace:\nRemoteError@chrome://remote/content/shared/RemoteError.sys.mjs:8:8\nWebDriverError@chrome://remote/content/shared/webdriver/Errors.sys.mjs:180:5\nNoSuchWindowError@chrome://remote/content/shared/webdriver/Errors.sys.mjs:434:5\nassert.that/<@chrome://remote/content/shared/webdriver/Assert.sys.mjs:485:13\nassert.open@chrome://remote/content/shared/webdriver/Assert.sys.mjs:147:4\nGeckoDriver.prototype.maximizeWindow@chrome://remote/content/marionette/driver.sys.mjs:2481:15\ndespatch@chrome://remote/content/marionette/server.sys.mjs:303:40\nexecute@chrome://remote/content/marionette/server.sys.mjs:276:16\nonPacket/<@chrome://remote/content/marionette/server.sys.mjs:249:20\nonPacket@chrome://remote/content/marionette/server.sys.mjs:250:9\n_onJSONObjectReady/<@chrome://remote/content/marionette/transport.sys.mjs:496:20\n"
     ]
    }
   ],
   "source": [
    "url = \"https://www.bing.com/images/search?view=detailV2&insightstoken=bcid_RNkFw2SSrzcFBw*ccid_2QXDZJKv&form=SBISAP&iss=SBIUPLOADGET&sbisrc=ImgPicker&q=image%3Abcid_RNkFw2SSrzcFqxcxoNWLuD9SqbotqVTdP0A&ssp=1&setlang=en-gb&cc=ZA&pc=SANSAAND&selectedindex=0&id=A786096057D08F9E6D6293F8D511C0CF3546AEFD&ccid=i8Z4OWtn&exph=2250&expw=1688&vt=2&sim=11&safesearch=moderate&simid=608029651599634254&ck=F47B5EA7B8D0A91E59DEB4CFBEBFB5D9&thid=OIP.i8Z4OWtn-48xa50chV4r8wHaJ3&mediaurl=https%3A%2F%2Fimages.pexels.com%2Fphotos%2F1398145%2Fpexels-photo-1398145.jpeg%3Fauto%3Dcompress%26cs%3Dtinysrgb%26dpr%3D3%26h%3D750%26w%3D1260&cdnurl=https%3A%2F%2Fth.bing.com%2Fth%2Fid%2FR.8bc678396b67fb8f316b9d1c855e2bf3%3Frik%3D%252fa5GNc%252fAEdX4kw%26pid%3DImgRaw%26r%3D0&pivotparams=insightsToken%3Dbcid_RNkFw2SSrzcFBw*ccid_2QXDZJKv\"\n",
    "\n",
    "driver = webdriver.Firefox()\n",
    "driver.get(url)\n",
    "driver.maximize_window()\n",
    "\n",
    "try:\n",
    "    element = WebDriverWait(driver, 10).until(EC.presence_of_element_located((By.CLASS_NAME, \"vsi\")))\n",
    "    element.click()\n",
    "#     link = jpg_url(driver, 10)\n",
    "#     print(link)\n",
    "    \n",
    "    \n",
    "finally:\n",
    "    driver.quit()"
   ]
  },
  {
   "cell_type": "code",
   "execution_count": 93,
   "id": "35f7dd51",
   "metadata": {},
   "outputs": [
    {
     "ename": "NoSuchElementException",
     "evalue": "Message: Unable to locate element: .vsi\nStacktrace:\nRemoteError@chrome://remote/content/shared/RemoteError.sys.mjs:8:8\nWebDriverError@chrome://remote/content/shared/webdriver/Errors.sys.mjs:180:5\nNoSuchElementError@chrome://remote/content/shared/webdriver/Errors.sys.mjs:392:5\nelement.find/</<@chrome://remote/content/marionette/element.sys.mjs:275:16\n",
     "output_type": "error",
     "traceback": [
      "\u001b[0;31m---------------------------------------------------------------------------\u001b[0m",
      "\u001b[0;31mNoSuchElementException\u001b[0m                    Traceback (most recent call last)",
      "\u001b[0;32m/tmp/ipykernel_380803/4042260244.py\u001b[0m in \u001b[0;36m<module>\u001b[0;34m\u001b[0m\n\u001b[1;32m      7\u001b[0m \u001b[0mtime\u001b[0m\u001b[0;34m.\u001b[0m\u001b[0msleep\u001b[0m\u001b[0;34m(\u001b[0m\u001b[0;36m5\u001b[0m\u001b[0;34m)\u001b[0m\u001b[0;34m\u001b[0m\u001b[0;34m\u001b[0m\u001b[0m\n\u001b[1;32m      8\u001b[0m \u001b[0;31m# scroll to the bottom of a page\u001b[0m\u001b[0;34m\u001b[0m\u001b[0;34m\u001b[0m\u001b[0;34m\u001b[0m\u001b[0m\n\u001b[0;32m----> 9\u001b[0;31m \u001b[0minspect\u001b[0m \u001b[0;34m=\u001b[0m \u001b[0mdriver\u001b[0m\u001b[0;34m.\u001b[0m\u001b[0mfind_element\u001b[0m\u001b[0;34m(\u001b[0m\u001b[0mBy\u001b[0m\u001b[0;34m.\u001b[0m\u001b[0mCLASS_NAME\u001b[0m\u001b[0;34m,\u001b[0m \u001b[0;34m\"vsi\"\u001b[0m\u001b[0;34m)\u001b[0m\u001b[0;34m\u001b[0m\u001b[0;34m\u001b[0m\u001b[0m\n\u001b[0m\u001b[1;32m     10\u001b[0m \u001b[0minspect\u001b[0m\u001b[0;34m.\u001b[0m\u001b[0mclick\u001b[0m\u001b[0;34m(\u001b[0m\u001b[0;34m)\u001b[0m\u001b[0;34m\u001b[0m\u001b[0;34m\u001b[0m\u001b[0m\n\u001b[1;32m     11\u001b[0m \u001b[0mtime\u001b[0m\u001b[0;34m.\u001b[0m\u001b[0msleep\u001b[0m\u001b[0;34m(\u001b[0m\u001b[0;36m5\u001b[0m\u001b[0;34m)\u001b[0m\u001b[0;34m\u001b[0m\u001b[0;34m\u001b[0m\u001b[0m\n",
      "\u001b[0;32m~/miniconda3/envs/tf_38gpu/lib/python3.8/site-packages/selenium/webdriver/remote/webdriver.py\u001b[0m in \u001b[0;36mfind_element\u001b[0;34m(self, by, value)\u001b[0m\n\u001b[1;32m    828\u001b[0m             \u001b[0mvalue\u001b[0m \u001b[0;34m=\u001b[0m \u001b[0;34mf'[name=\"{value}\"]'\u001b[0m\u001b[0;34m\u001b[0m\u001b[0;34m\u001b[0m\u001b[0m\n\u001b[1;32m    829\u001b[0m \u001b[0;34m\u001b[0m\u001b[0m\n\u001b[0;32m--> 830\u001b[0;31m         \u001b[0;32mreturn\u001b[0m \u001b[0mself\u001b[0m\u001b[0;34m.\u001b[0m\u001b[0mexecute\u001b[0m\u001b[0;34m(\u001b[0m\u001b[0mCommand\u001b[0m\u001b[0;34m.\u001b[0m\u001b[0mFIND_ELEMENT\u001b[0m\u001b[0;34m,\u001b[0m \u001b[0;34m{\u001b[0m\u001b[0;34m\"using\"\u001b[0m\u001b[0;34m:\u001b[0m \u001b[0mby\u001b[0m\u001b[0;34m,\u001b[0m \u001b[0;34m\"value\"\u001b[0m\u001b[0;34m:\u001b[0m \u001b[0mvalue\u001b[0m\u001b[0;34m}\u001b[0m\u001b[0;34m)\u001b[0m\u001b[0;34m[\u001b[0m\u001b[0;34m\"value\"\u001b[0m\u001b[0;34m]\u001b[0m\u001b[0;34m\u001b[0m\u001b[0;34m\u001b[0m\u001b[0m\n\u001b[0m\u001b[1;32m    831\u001b[0m \u001b[0;34m\u001b[0m\u001b[0m\n\u001b[1;32m    832\u001b[0m     \u001b[0;32mdef\u001b[0m \u001b[0mfind_elements\u001b[0m\u001b[0;34m(\u001b[0m\u001b[0mself\u001b[0m\u001b[0;34m,\u001b[0m \u001b[0mby\u001b[0m\u001b[0;34m=\u001b[0m\u001b[0mBy\u001b[0m\u001b[0;34m.\u001b[0m\u001b[0mID\u001b[0m\u001b[0;34m,\u001b[0m \u001b[0mvalue\u001b[0m\u001b[0;34m:\u001b[0m \u001b[0mOptional\u001b[0m\u001b[0;34m[\u001b[0m\u001b[0mstr\u001b[0m\u001b[0;34m]\u001b[0m \u001b[0;34m=\u001b[0m \u001b[0;32mNone\u001b[0m\u001b[0;34m)\u001b[0m \u001b[0;34m->\u001b[0m \u001b[0mList\u001b[0m\u001b[0;34m[\u001b[0m\u001b[0mWebElement\u001b[0m\u001b[0;34m]\u001b[0m\u001b[0;34m:\u001b[0m\u001b[0;34m\u001b[0m\u001b[0;34m\u001b[0m\u001b[0m\n",
      "\u001b[0;32m~/miniconda3/envs/tf_38gpu/lib/python3.8/site-packages/selenium/webdriver/remote/webdriver.py\u001b[0m in \u001b[0;36mexecute\u001b[0;34m(self, driver_command, params)\u001b[0m\n\u001b[1;32m    438\u001b[0m         \u001b[0mresponse\u001b[0m \u001b[0;34m=\u001b[0m \u001b[0mself\u001b[0m\u001b[0;34m.\u001b[0m\u001b[0mcommand_executor\u001b[0m\u001b[0;34m.\u001b[0m\u001b[0mexecute\u001b[0m\u001b[0;34m(\u001b[0m\u001b[0mdriver_command\u001b[0m\u001b[0;34m,\u001b[0m \u001b[0mparams\u001b[0m\u001b[0;34m)\u001b[0m\u001b[0;34m\u001b[0m\u001b[0;34m\u001b[0m\u001b[0m\n\u001b[1;32m    439\u001b[0m         \u001b[0;32mif\u001b[0m \u001b[0mresponse\u001b[0m\u001b[0;34m:\u001b[0m\u001b[0;34m\u001b[0m\u001b[0;34m\u001b[0m\u001b[0m\n\u001b[0;32m--> 440\u001b[0;31m             \u001b[0mself\u001b[0m\u001b[0;34m.\u001b[0m\u001b[0merror_handler\u001b[0m\u001b[0;34m.\u001b[0m\u001b[0mcheck_response\u001b[0m\u001b[0;34m(\u001b[0m\u001b[0mresponse\u001b[0m\u001b[0;34m)\u001b[0m\u001b[0;34m\u001b[0m\u001b[0;34m\u001b[0m\u001b[0m\n\u001b[0m\u001b[1;32m    441\u001b[0m             \u001b[0mresponse\u001b[0m\u001b[0;34m[\u001b[0m\u001b[0;34m\"value\"\u001b[0m\u001b[0;34m]\u001b[0m \u001b[0;34m=\u001b[0m \u001b[0mself\u001b[0m\u001b[0;34m.\u001b[0m\u001b[0m_unwrap_value\u001b[0m\u001b[0;34m(\u001b[0m\u001b[0mresponse\u001b[0m\u001b[0;34m.\u001b[0m\u001b[0mget\u001b[0m\u001b[0;34m(\u001b[0m\u001b[0;34m\"value\"\u001b[0m\u001b[0;34m,\u001b[0m \u001b[0;32mNone\u001b[0m\u001b[0;34m)\u001b[0m\u001b[0;34m)\u001b[0m\u001b[0;34m\u001b[0m\u001b[0;34m\u001b[0m\u001b[0m\n\u001b[1;32m    442\u001b[0m             \u001b[0;32mreturn\u001b[0m \u001b[0mresponse\u001b[0m\u001b[0;34m\u001b[0m\u001b[0;34m\u001b[0m\u001b[0m\n",
      "\u001b[0;32m~/miniconda3/envs/tf_38gpu/lib/python3.8/site-packages/selenium/webdriver/remote/errorhandler.py\u001b[0m in \u001b[0;36mcheck_response\u001b[0;34m(self, response)\u001b[0m\n\u001b[1;32m    243\u001b[0m                 \u001b[0malert_text\u001b[0m \u001b[0;34m=\u001b[0m \u001b[0mvalue\u001b[0m\u001b[0;34m[\u001b[0m\u001b[0;34m\"alert\"\u001b[0m\u001b[0;34m]\u001b[0m\u001b[0;34m.\u001b[0m\u001b[0mget\u001b[0m\u001b[0;34m(\u001b[0m\u001b[0;34m\"text\"\u001b[0m\u001b[0;34m)\u001b[0m\u001b[0;34m\u001b[0m\u001b[0;34m\u001b[0m\u001b[0m\n\u001b[1;32m    244\u001b[0m             \u001b[0;32mraise\u001b[0m \u001b[0mexception_class\u001b[0m\u001b[0;34m(\u001b[0m\u001b[0mmessage\u001b[0m\u001b[0;34m,\u001b[0m \u001b[0mscreen\u001b[0m\u001b[0;34m,\u001b[0m \u001b[0mstacktrace\u001b[0m\u001b[0;34m,\u001b[0m \u001b[0malert_text\u001b[0m\u001b[0;34m)\u001b[0m  \u001b[0;31m# type: ignore[call-arg]  # mypy is not smart enough here\u001b[0m\u001b[0;34m\u001b[0m\u001b[0;34m\u001b[0m\u001b[0m\n\u001b[0;32m--> 245\u001b[0;31m         \u001b[0;32mraise\u001b[0m \u001b[0mexception_class\u001b[0m\u001b[0;34m(\u001b[0m\u001b[0mmessage\u001b[0m\u001b[0;34m,\u001b[0m \u001b[0mscreen\u001b[0m\u001b[0;34m,\u001b[0m \u001b[0mstacktrace\u001b[0m\u001b[0;34m)\u001b[0m\u001b[0;34m\u001b[0m\u001b[0;34m\u001b[0m\u001b[0m\n\u001b[0m",
      "\u001b[0;31mNoSuchElementException\u001b[0m: Message: Unable to locate element: .vsi\nStacktrace:\nRemoteError@chrome://remote/content/shared/RemoteError.sys.mjs:8:8\nWebDriverError@chrome://remote/content/shared/webdriver/Errors.sys.mjs:180:5\nNoSuchElementError@chrome://remote/content/shared/webdriver/Errors.sys.mjs:392:5\nelement.find/</<@chrome://remote/content/marionette/element.sys.mjs:275:16\n"
     ]
    }
   ],
   "source": [
    "# Working\n",
    "url = \"https://www.bing.com/images/search?view=detailV2&insightstoken=bcid_RNkFw2SSrzcFBw*ccid_2QXDZJKv&form=SBISAP&iss=SBIUPLOADGET&sbisrc=ImgPicker&q=image%3Abcid_RNkFw2SSrzcFqxcxoNWLuD9SqbotqVTdP0A&ssp=1&setlang=en-gb&cc=ZA&pc=SANSAAND&selectedindex=0&id=A786096057D08F9E6D6293F8D511C0CF3546AEFD&ccid=i8Z4OWtn&exph=2250&expw=1688&vt=2&sim=11&safesearch=moderate&simid=608029651599634254&ck=F47B5EA7B8D0A91E59DEB4CFBEBFB5D9&thid=OIP.i8Z4OWtn-48xa50chV4r8wHaJ3&mediaurl=https%3A%2F%2Fimages.pexels.com%2Fphotos%2F1398145%2Fpexels-photo-1398145.jpeg%3Fauto%3Dcompress%26cs%3Dtinysrgb%26dpr%3D3%26h%3D750%26w%3D1260&cdnurl=https%3A%2F%2Fth.bing.com%2Fth%2Fid%2FR.8bc678396b67fb8f316b9d1c855e2bf3%3Frik%3D%252fa5GNc%252fAEdX4kw%26pid%3DImgRaw%26r%3D0&pivotparams=insightsToken%3Dbcid_RNkFw2SSrzcFBw*ccid_2QXDZJKv\"\n",
    "\n",
    "driver = webdriver.Firefox()\n",
    "driver.get(url)\n",
    "driver.maximize_window()\n",
    "time.sleep(5)\n",
    "# scroll to the bottom of a page\n",
    "inspect = driver.find_element(By.CLASS_NAME, \"vsi\")\n",
    "inspect.click()\n",
    "time.sleep(5)\n",
    "inspect2 =  driver.find_element(By.CLASS_NAME,'richImgLnk')\n",
    "inspect2.click()\n",
    "time.sleep(5)\n",
    "driver.execute_script(\"window.scrollTo(0, document.body.scrollHeight);\")\n",
    "time.sleep(3)\n",
    "# https://www.youtube.com/watch?v=U0WMFjnbb4I   \n",
    "# pic : grabs img src\n",
    "# driver.find_element(By.CLASS_NAME,'mainImage  next')\n",
    "unique_pics = set()\n",
    "pics = driver.find_elements(By.XPATH,\"//div[@id='mainImageWindow']//self::img[contains(@src,'.jp')]\")\n",
    "for pic in pics:\n",
    "    src_link = pic.get_attribute('src')\n",
    "    unique_pics.add(src_link)\n",
    "\n",
    "\n",
    "driver.back()\n",
    "time.sleep(2)\n",
    "driver.back()\n",
    "time.sleep(3)\n",
    "driver.close()\n"
   ]
  },
  {
   "cell_type": "code",
   "execution_count": 95,
   "id": "5c27f6be",
   "metadata": {},
   "outputs": [
    {
     "name": "stdout",
     "output_type": "stream",
     "text": [
      "done\n",
      "went back : 0 times\n"
     ]
    },
    {
     "ename": "StaleElementReferenceException",
     "evalue": "Message: The element reference of <a class=\"richImgLnk\" href=\"?view=detailV2&insightstoken=bcid_RNkFw2SSrzcFBw*ccid_2QXDZJKv*cp_F47B5EA7B8D0A91E59DEB4CFBEBFB5D9&form=SBISAP&iss=SBIUPLOADGET&sbisrc=ImgPicker&q=image%3Abcid_RNkFw2SSrzcFqxcxoNWLuD9SqbotqVTdP0A&ssp=1&setlang=en-gb&cc=ZA&pc=SANSAAND&selectedindex=1&id=18FB1E8F4E7E12FDDF1BCD81B03C16DBC3CEF4BA&ccid=9HvFHrEu&exph=736&expw=736&vt=2&sim=1&safesearch=moderate&ck=205C4D7131F07F89B0D862411085D27F&thid=OIP.9HvFHrEuvcc4RKLaPTKOUQHaHa&mediaurl=https%3A%2F%2Fi.pinimg.com%2F736x%2Faa%2F67%2Fc8%2Faa67c87d580d0864a12e333ad02ec61f--summer-sky-daydream.jpg&cdnurl=https%3A%2F%2Fth.bing.com%2Fth%2Fid%2FR.f47bc51eb12ebdc73844a2da3d328e51%3Frik%3DuvTOw9sWPLCBzQ%26pid%3DImgRaw%26r%3D0\"> is stale; either the element is no longer attached to the DOM, it is not in the current frame context, or the document has been refreshed\nStacktrace:\nRemoteError@chrome://remote/content/shared/RemoteError.sys.mjs:8:8\nWebDriverError@chrome://remote/content/shared/webdriver/Errors.sys.mjs:180:5\nStaleElementReferenceError@chrome://remote/content/shared/webdriver/Errors.sys.mjs:461:5\nelement.resolveElement@chrome://remote/content/marionette/element.sys.mjs:674:11\nevaluate.fromJSON@chrome://remote/content/marionette/evaluate.sys.mjs:255:31\nevaluate.fromJSON@chrome://remote/content/marionette/evaluate.sys.mjs:263:29\nreceiveMessage@chrome://remote/content/marionette/actors/MarionetteCommandsChild.sys.mjs:74:34\n",
     "output_type": "error",
     "traceback": [
      "\u001b[0;31m---------------------------------------------------------------------------\u001b[0m",
      "\u001b[0;31mStaleElementReferenceException\u001b[0m            Traceback (most recent call last)",
      "\u001b[0;32m/tmp/ipykernel_380803/2151542884.py\u001b[0m in \u001b[0;36m<module>\u001b[0;34m\u001b[0m\n\u001b[1;32m     11\u001b[0m \u001b[0mthumbnails\u001b[0m \u001b[0;34m=\u001b[0m \u001b[0mdriver\u001b[0m\u001b[0;34m.\u001b[0m\u001b[0mfind_elements\u001b[0m\u001b[0;34m(\u001b[0m\u001b[0mBy\u001b[0m\u001b[0;34m.\u001b[0m\u001b[0mXPATH\u001b[0m\u001b[0;34m,\u001b[0m\u001b[0;34m\"//a[@role='link']\"\u001b[0m\u001b[0;34m)\u001b[0m\u001b[0;34m\u001b[0m\u001b[0;34m\u001b[0m\u001b[0m\n\u001b[1;32m     12\u001b[0m \u001b[0;32mfor\u001b[0m \u001b[0mi\u001b[0m \u001b[0;32min\u001b[0m \u001b[0mrange\u001b[0m\u001b[0;34m(\u001b[0m\u001b[0mlen\u001b[0m\u001b[0;34m(\u001b[0m\u001b[0mthumbnails\u001b[0m\u001b[0;34m)\u001b[0m\u001b[0;34m)\u001b[0m\u001b[0;34m:\u001b[0m\u001b[0;34m\u001b[0m\u001b[0;34m\u001b[0m\u001b[0m\n\u001b[0;32m---> 13\u001b[0;31m     \u001b[0mthumbnails\u001b[0m\u001b[0;34m[\u001b[0m\u001b[0mi\u001b[0m\u001b[0;34m]\u001b[0m\u001b[0;34m.\u001b[0m\u001b[0mclick\u001b[0m\u001b[0;34m(\u001b[0m\u001b[0;34m)\u001b[0m\u001b[0;34m\u001b[0m\u001b[0;34m\u001b[0m\u001b[0m\n\u001b[0m\u001b[1;32m     14\u001b[0m     \u001b[0mtime\u001b[0m\u001b[0;34m.\u001b[0m\u001b[0msleep\u001b[0m\u001b[0;34m(\u001b[0m\u001b[0;36m3\u001b[0m\u001b[0;34m)\u001b[0m\u001b[0;34m\u001b[0m\u001b[0;34m\u001b[0m\u001b[0m\n\u001b[1;32m     15\u001b[0m     \u001b[0mpic\u001b[0m \u001b[0;34m=\u001b[0m \u001b[0mdriver\u001b[0m\u001b[0;34m.\u001b[0m\u001b[0mfind_element\u001b[0m\u001b[0;34m(\u001b[0m\u001b[0mBy\u001b[0m\u001b[0;34m.\u001b[0m\u001b[0mXPATH\u001b[0m\u001b[0;34m,\u001b[0m\u001b[0;34m\"//div[@role='main']//child::img[contains(@src,'.jp')]\"\u001b[0m\u001b[0;34m)\u001b[0m\u001b[0;34m\u001b[0m\u001b[0;34m\u001b[0m\u001b[0m\n",
      "\u001b[0;32m~/miniconda3/envs/tf_38gpu/lib/python3.8/site-packages/selenium/webdriver/remote/webelement.py\u001b[0m in \u001b[0;36mclick\u001b[0;34m(self)\u001b[0m\n\u001b[1;32m     91\u001b[0m     \u001b[0;32mdef\u001b[0m \u001b[0mclick\u001b[0m\u001b[0;34m(\u001b[0m\u001b[0mself\u001b[0m\u001b[0;34m)\u001b[0m \u001b[0;34m->\u001b[0m \u001b[0;32mNone\u001b[0m\u001b[0;34m:\u001b[0m\u001b[0;34m\u001b[0m\u001b[0;34m\u001b[0m\u001b[0m\n\u001b[1;32m     92\u001b[0m         \u001b[0;34m\"\"\"Clicks the element.\"\"\"\u001b[0m\u001b[0;34m\u001b[0m\u001b[0;34m\u001b[0m\u001b[0m\n\u001b[0;32m---> 93\u001b[0;31m         \u001b[0mself\u001b[0m\u001b[0;34m.\u001b[0m\u001b[0m_execute\u001b[0m\u001b[0;34m(\u001b[0m\u001b[0mCommand\u001b[0m\u001b[0;34m.\u001b[0m\u001b[0mCLICK_ELEMENT\u001b[0m\u001b[0;34m)\u001b[0m\u001b[0;34m\u001b[0m\u001b[0;34m\u001b[0m\u001b[0m\n\u001b[0m\u001b[1;32m     94\u001b[0m \u001b[0;34m\u001b[0m\u001b[0m\n\u001b[1;32m     95\u001b[0m     \u001b[0;32mdef\u001b[0m \u001b[0msubmit\u001b[0m\u001b[0;34m(\u001b[0m\u001b[0mself\u001b[0m\u001b[0;34m)\u001b[0m\u001b[0;34m:\u001b[0m\u001b[0;34m\u001b[0m\u001b[0;34m\u001b[0m\u001b[0m\n",
      "\u001b[0;32m~/miniconda3/envs/tf_38gpu/lib/python3.8/site-packages/selenium/webdriver/remote/webelement.py\u001b[0m in \u001b[0;36m_execute\u001b[0;34m(self, command, params)\u001b[0m\n\u001b[1;32m    401\u001b[0m             \u001b[0mparams\u001b[0m \u001b[0;34m=\u001b[0m \u001b[0;34m{\u001b[0m\u001b[0;34m}\u001b[0m\u001b[0;34m\u001b[0m\u001b[0;34m\u001b[0m\u001b[0m\n\u001b[1;32m    402\u001b[0m         \u001b[0mparams\u001b[0m\u001b[0;34m[\u001b[0m\u001b[0;34m\"id\"\u001b[0m\u001b[0;34m]\u001b[0m \u001b[0;34m=\u001b[0m \u001b[0mself\u001b[0m\u001b[0;34m.\u001b[0m\u001b[0m_id\u001b[0m\u001b[0;34m\u001b[0m\u001b[0;34m\u001b[0m\u001b[0m\n\u001b[0;32m--> 403\u001b[0;31m         \u001b[0;32mreturn\u001b[0m \u001b[0mself\u001b[0m\u001b[0;34m.\u001b[0m\u001b[0m_parent\u001b[0m\u001b[0;34m.\u001b[0m\u001b[0mexecute\u001b[0m\u001b[0;34m(\u001b[0m\u001b[0mcommand\u001b[0m\u001b[0;34m,\u001b[0m \u001b[0mparams\u001b[0m\u001b[0;34m)\u001b[0m\u001b[0;34m\u001b[0m\u001b[0;34m\u001b[0m\u001b[0m\n\u001b[0m\u001b[1;32m    404\u001b[0m \u001b[0;34m\u001b[0m\u001b[0m\n\u001b[1;32m    405\u001b[0m     \u001b[0;32mdef\u001b[0m \u001b[0mfind_element\u001b[0m\u001b[0;34m(\u001b[0m\u001b[0mself\u001b[0m\u001b[0;34m,\u001b[0m \u001b[0mby\u001b[0m\u001b[0;34m=\u001b[0m\u001b[0mBy\u001b[0m\u001b[0;34m.\u001b[0m\u001b[0mID\u001b[0m\u001b[0;34m,\u001b[0m \u001b[0mvalue\u001b[0m\u001b[0;34m=\u001b[0m\u001b[0;32mNone\u001b[0m\u001b[0;34m)\u001b[0m \u001b[0;34m->\u001b[0m \u001b[0mWebElement\u001b[0m\u001b[0;34m:\u001b[0m\u001b[0;34m\u001b[0m\u001b[0;34m\u001b[0m\u001b[0m\n",
      "\u001b[0;32m~/miniconda3/envs/tf_38gpu/lib/python3.8/site-packages/selenium/webdriver/remote/webdriver.py\u001b[0m in \u001b[0;36mexecute\u001b[0;34m(self, driver_command, params)\u001b[0m\n\u001b[1;32m    438\u001b[0m         \u001b[0mresponse\u001b[0m \u001b[0;34m=\u001b[0m \u001b[0mself\u001b[0m\u001b[0;34m.\u001b[0m\u001b[0mcommand_executor\u001b[0m\u001b[0;34m.\u001b[0m\u001b[0mexecute\u001b[0m\u001b[0;34m(\u001b[0m\u001b[0mdriver_command\u001b[0m\u001b[0;34m,\u001b[0m \u001b[0mparams\u001b[0m\u001b[0;34m)\u001b[0m\u001b[0;34m\u001b[0m\u001b[0;34m\u001b[0m\u001b[0m\n\u001b[1;32m    439\u001b[0m         \u001b[0;32mif\u001b[0m \u001b[0mresponse\u001b[0m\u001b[0;34m:\u001b[0m\u001b[0;34m\u001b[0m\u001b[0;34m\u001b[0m\u001b[0m\n\u001b[0;32m--> 440\u001b[0;31m             \u001b[0mself\u001b[0m\u001b[0;34m.\u001b[0m\u001b[0merror_handler\u001b[0m\u001b[0;34m.\u001b[0m\u001b[0mcheck_response\u001b[0m\u001b[0;34m(\u001b[0m\u001b[0mresponse\u001b[0m\u001b[0;34m)\u001b[0m\u001b[0;34m\u001b[0m\u001b[0;34m\u001b[0m\u001b[0m\n\u001b[0m\u001b[1;32m    441\u001b[0m             \u001b[0mresponse\u001b[0m\u001b[0;34m[\u001b[0m\u001b[0;34m\"value\"\u001b[0m\u001b[0;34m]\u001b[0m \u001b[0;34m=\u001b[0m \u001b[0mself\u001b[0m\u001b[0;34m.\u001b[0m\u001b[0m_unwrap_value\u001b[0m\u001b[0;34m(\u001b[0m\u001b[0mresponse\u001b[0m\u001b[0;34m.\u001b[0m\u001b[0mget\u001b[0m\u001b[0;34m(\u001b[0m\u001b[0;34m\"value\"\u001b[0m\u001b[0;34m,\u001b[0m \u001b[0;32mNone\u001b[0m\u001b[0;34m)\u001b[0m\u001b[0;34m)\u001b[0m\u001b[0;34m\u001b[0m\u001b[0;34m\u001b[0m\u001b[0m\n\u001b[1;32m    442\u001b[0m             \u001b[0;32mreturn\u001b[0m \u001b[0mresponse\u001b[0m\u001b[0;34m\u001b[0m\u001b[0;34m\u001b[0m\u001b[0m\n",
      "\u001b[0;32m~/miniconda3/envs/tf_38gpu/lib/python3.8/site-packages/selenium/webdriver/remote/errorhandler.py\u001b[0m in \u001b[0;36mcheck_response\u001b[0;34m(self, response)\u001b[0m\n\u001b[1;32m    243\u001b[0m                 \u001b[0malert_text\u001b[0m \u001b[0;34m=\u001b[0m \u001b[0mvalue\u001b[0m\u001b[0;34m[\u001b[0m\u001b[0;34m\"alert\"\u001b[0m\u001b[0;34m]\u001b[0m\u001b[0;34m.\u001b[0m\u001b[0mget\u001b[0m\u001b[0;34m(\u001b[0m\u001b[0;34m\"text\"\u001b[0m\u001b[0;34m)\u001b[0m\u001b[0;34m\u001b[0m\u001b[0;34m\u001b[0m\u001b[0m\n\u001b[1;32m    244\u001b[0m             \u001b[0;32mraise\u001b[0m \u001b[0mexception_class\u001b[0m\u001b[0;34m(\u001b[0m\u001b[0mmessage\u001b[0m\u001b[0;34m,\u001b[0m \u001b[0mscreen\u001b[0m\u001b[0;34m,\u001b[0m \u001b[0mstacktrace\u001b[0m\u001b[0;34m,\u001b[0m \u001b[0malert_text\u001b[0m\u001b[0;34m)\u001b[0m  \u001b[0;31m# type: ignore[call-arg]  # mypy is not smart enough here\u001b[0m\u001b[0;34m\u001b[0m\u001b[0;34m\u001b[0m\u001b[0m\n\u001b[0;32m--> 245\u001b[0;31m         \u001b[0;32mraise\u001b[0m \u001b[0mexception_class\u001b[0m\u001b[0;34m(\u001b[0m\u001b[0mmessage\u001b[0m\u001b[0;34m,\u001b[0m \u001b[0mscreen\u001b[0m\u001b[0;34m,\u001b[0m \u001b[0mstacktrace\u001b[0m\u001b[0;34m)\u001b[0m\u001b[0;34m\u001b[0m\u001b[0;34m\u001b[0m\u001b[0m\n\u001b[0m",
      "\u001b[0;31mStaleElementReferenceException\u001b[0m: Message: The element reference of <a class=\"richImgLnk\" href=\"?view=detailV2&insightstoken=bcid_RNkFw2SSrzcFBw*ccid_2QXDZJKv*cp_F47B5EA7B8D0A91E59DEB4CFBEBFB5D9&form=SBISAP&iss=SBIUPLOADGET&sbisrc=ImgPicker&q=image%3Abcid_RNkFw2SSrzcFqxcxoNWLuD9SqbotqVTdP0A&ssp=1&setlang=en-gb&cc=ZA&pc=SANSAAND&selectedindex=1&id=18FB1E8F4E7E12FDDF1BCD81B03C16DBC3CEF4BA&ccid=9HvFHrEu&exph=736&expw=736&vt=2&sim=1&safesearch=moderate&ck=205C4D7131F07F89B0D862411085D27F&thid=OIP.9HvFHrEuvcc4RKLaPTKOUQHaHa&mediaurl=https%3A%2F%2Fi.pinimg.com%2F736x%2Faa%2F67%2Fc8%2Faa67c87d580d0864a12e333ad02ec61f--summer-sky-daydream.jpg&cdnurl=https%3A%2F%2Fth.bing.com%2Fth%2Fid%2FR.f47bc51eb12ebdc73844a2da3d328e51%3Frik%3DuvTOw9sWPLCBzQ%26pid%3DImgRaw%26r%3D0\"> is stale; either the element is no longer attached to the DOM, it is not in the current frame context, or the document has been refreshed\nStacktrace:\nRemoteError@chrome://remote/content/shared/RemoteError.sys.mjs:8:8\nWebDriverError@chrome://remote/content/shared/webdriver/Errors.sys.mjs:180:5\nStaleElementReferenceError@chrome://remote/content/shared/webdriver/Errors.sys.mjs:461:5\nelement.resolveElement@chrome://remote/content/marionette/element.sys.mjs:674:11\nevaluate.fromJSON@chrome://remote/content/marionette/evaluate.sys.mjs:255:31\nevaluate.fromJSON@chrome://remote/content/marionette/evaluate.sys.mjs:263:29\nreceiveMessage@chrome://remote/content/marionette/actors/MarionetteCommandsChild.sys.mjs:74:34\n"
     ]
    }
   ],
   "source": [
    "# experiment\n",
    "unique_pics = set()\n",
    "driver = webdriver.Firefox()\n",
    "# driver.implicitly_wait(30)\n",
    "driver.get(url)\n",
    "driver.maximize_window()\n",
    "time.sleep(3)\n",
    "# click the related result tab\n",
    "find_tab = driver.find_element(By.XPATH, \"//li[@class=' t-vsi nofocus']\")\n",
    "find_tab.click()\n",
    "time.sleep(5)\n",
    "thumbnails = driver.find_elements(By.XPATH,\"//a[@role='link']\")\n",
    "for i in range(len(thumbnails)):\n",
    "    thumbnails[i].click()\n",
    "    time.sleep(3)\n",
    "    pic = driver.find_element(By.XPATH,\"//div[@role='main']//child::img[contains(@src,'.jp')]\")\n",
    "    src_link = pic.get_attribute('src')\n",
    "    unique_pics.add(src_link)\n",
    "    print('done')\n",
    "    driver.back()\n",
    "    time.sleep(5)\n",
    "    print(f'went back : {i} times')\n",
    "    driver.implicitly_wait(30)\n",
    "# current problem it doesnt want to move to the next thumbnal"
   ]
  },
  {
   "cell_type": "code",
   "execution_count": 83,
   "id": "0e78657c",
   "metadata": {},
   "outputs": [
    {
     "data": {
      "text/plain": [
       "{'https://images.pexels.com/photos/1398145/pexels-photo-1398145.jpeg?auto=compress&cs=tinysrgb&h=750&w=1260'}"
      ]
     },
     "execution_count": 83,
     "metadata": {},
     "output_type": "execute_result"
    }
   ],
   "source": [
    "unique_pics"
   ]
  },
  {
   "cell_type": "code",
   "execution_count": 70,
   "id": "58f33955",
   "metadata": {},
   "outputs": [
    {
     "name": "stdout",
     "output_type": "stream",
     "text": [
      "<selenium.webdriver.remote.webelement.WebElement (session=\"9a934b26-9c20-48fd-a84c-d02758086d34\", element=\"43c76637-b556-41c7-8f3c-34b5b044cfde\")> \n",
      "\n",
      "<selenium.webdriver.remote.webelement.WebElement (session=\"9a934b26-9c20-48fd-a84c-d02758086d34\", element=\"fb9c10f6-8c3e-4d34-abd9-3a09e64a03f2\")> \n",
      "\n",
      "<selenium.webdriver.remote.webelement.WebElement (session=\"9a934b26-9c20-48fd-a84c-d02758086d34\", element=\"b381fea1-d6e5-45f6-9b8a-ad56304e71fc\")> \n",
      "\n",
      "<selenium.webdriver.remote.webelement.WebElement (session=\"9a934b26-9c20-48fd-a84c-d02758086d34\", element=\"154581e4-077d-4e2a-9623-76778b71d98d\")> \n",
      "\n",
      "<selenium.webdriver.remote.webelement.WebElement (session=\"9a934b26-9c20-48fd-a84c-d02758086d34\", element=\"25688980-b822-4f3e-85ef-d12775c0e352\")> \n",
      "\n",
      "<selenium.webdriver.remote.webelement.WebElement (session=\"9a934b26-9c20-48fd-a84c-d02758086d34\", element=\"8fc09814-4b2e-4186-b483-882101e6734f\")> \n",
      "\n",
      "<selenium.webdriver.remote.webelement.WebElement (session=\"9a934b26-9c20-48fd-a84c-d02758086d34\", element=\"1713a817-aa1c-4c8f-81d2-c3a9db4ad134\")> \n",
      "\n",
      "<selenium.webdriver.remote.webelement.WebElement (session=\"9a934b26-9c20-48fd-a84c-d02758086d34\", element=\"e80045e1-8835-493f-9a3e-e23affcb0a58\")> \n",
      "\n",
      "<selenium.webdriver.remote.webelement.WebElement (session=\"9a934b26-9c20-48fd-a84c-d02758086d34\", element=\"98352443-fa00-4474-8235-c3e2dd510faa\")> \n",
      "\n",
      "<selenium.webdriver.remote.webelement.WebElement (session=\"9a934b26-9c20-48fd-a84c-d02758086d34\", element=\"bd28e06a-d776-45fd-a752-7bb05feb45e3\")> \n",
      "\n",
      "<selenium.webdriver.remote.webelement.WebElement (session=\"9a934b26-9c20-48fd-a84c-d02758086d34\", element=\"889b9bc9-3555-46fb-9a01-42d3001d0df4\")> \n",
      "\n",
      "<selenium.webdriver.remote.webelement.WebElement (session=\"9a934b26-9c20-48fd-a84c-d02758086d34\", element=\"67a513b6-d191-477c-9b79-4b300ed0152c\")> \n",
      "\n",
      "<selenium.webdriver.remote.webelement.WebElement (session=\"9a934b26-9c20-48fd-a84c-d02758086d34\", element=\"443f99f8-4248-48d8-a300-4eb78040088c\")> \n",
      "\n",
      "<selenium.webdriver.remote.webelement.WebElement (session=\"9a934b26-9c20-48fd-a84c-d02758086d34\", element=\"ca4e3638-0bd0-48b8-bd7d-6ea24e09010a\")> \n",
      "\n",
      "<selenium.webdriver.remote.webelement.WebElement (session=\"9a934b26-9c20-48fd-a84c-d02758086d34\", element=\"7644bc29-4488-4680-b23e-81b22b3b4d87\")> \n",
      "\n",
      "<selenium.webdriver.remote.webelement.WebElement (session=\"9a934b26-9c20-48fd-a84c-d02758086d34\", element=\"54e00c94-a1c7-4988-aa63-18cc7b7ae56b\")> \n",
      "\n",
      "<selenium.webdriver.remote.webelement.WebElement (session=\"9a934b26-9c20-48fd-a84c-d02758086d34\", element=\"89f5ede6-6cf9-4167-912d-4557491586d1\")> \n",
      "\n",
      "<selenium.webdriver.remote.webelement.WebElement (session=\"9a934b26-9c20-48fd-a84c-d02758086d34\", element=\"29f0583f-aeca-4452-8cbb-9c181f853417\")> \n",
      "\n",
      "<selenium.webdriver.remote.webelement.WebElement (session=\"9a934b26-9c20-48fd-a84c-d02758086d34\", element=\"fa08435f-733e-4457-9494-f1c358334899\")> \n",
      "\n",
      "<selenium.webdriver.remote.webelement.WebElement (session=\"9a934b26-9c20-48fd-a84c-d02758086d34\", element=\"d2f5cc38-f833-42f4-b84a-da3293c9b8ed\")> \n",
      "\n",
      "<selenium.webdriver.remote.webelement.WebElement (session=\"9a934b26-9c20-48fd-a84c-d02758086d34\", element=\"f0f15f31-d256-4d39-8871-421c99f2a011\")> \n",
      "\n",
      "<selenium.webdriver.remote.webelement.WebElement (session=\"9a934b26-9c20-48fd-a84c-d02758086d34\", element=\"ad67ed1d-d915-4d41-a735-4f201eba6d2e\")> \n",
      "\n",
      "<selenium.webdriver.remote.webelement.WebElement (session=\"9a934b26-9c20-48fd-a84c-d02758086d34\", element=\"469c9d1e-a0fa-456d-bd86-84448b67b65a\")> \n",
      "\n",
      "<selenium.webdriver.remote.webelement.WebElement (session=\"9a934b26-9c20-48fd-a84c-d02758086d34\", element=\"cbf3e243-219a-4009-be72-cdea3c0435eb\")> \n",
      "\n",
      "<selenium.webdriver.remote.webelement.WebElement (session=\"9a934b26-9c20-48fd-a84c-d02758086d34\", element=\"2f24e25e-9f87-4603-88a4-4654d809d9d6\")> \n",
      "\n",
      "<selenium.webdriver.remote.webelement.WebElement (session=\"9a934b26-9c20-48fd-a84c-d02758086d34\", element=\"65113663-9ee7-4ac6-b3fc-03bc071b33f3\")> \n",
      "\n",
      "<selenium.webdriver.remote.webelement.WebElement (session=\"9a934b26-9c20-48fd-a84c-d02758086d34\", element=\"6726d751-43ab-4d6d-b523-d6267ab30028\")> \n",
      "\n",
      "<selenium.webdriver.remote.webelement.WebElement (session=\"9a934b26-9c20-48fd-a84c-d02758086d34\", element=\"ad9a66a2-07a8-4183-af0a-c1fb238c2e60\")> \n",
      "\n",
      "<selenium.webdriver.remote.webelement.WebElement (session=\"9a934b26-9c20-48fd-a84c-d02758086d34\", element=\"f0efdb52-dfe7-48c3-8b36-77f2a774edb4\")> \n",
      "\n",
      "<selenium.webdriver.remote.webelement.WebElement (session=\"9a934b26-9c20-48fd-a84c-d02758086d34\", element=\"7040253f-84bd-47cf-96a8-5c0058552f8f\")> \n",
      "\n",
      "<selenium.webdriver.remote.webelement.WebElement (session=\"9a934b26-9c20-48fd-a84c-d02758086d34\", element=\"f3955ed9-f95b-4d94-b36f-d7c78e1b24a9\")> \n",
      "\n",
      "<selenium.webdriver.remote.webelement.WebElement (session=\"9a934b26-9c20-48fd-a84c-d02758086d34\", element=\"eb3533fc-8d56-48a8-8e91-02d738d7e6c5\")> \n",
      "\n",
      "<selenium.webdriver.remote.webelement.WebElement (session=\"9a934b26-9c20-48fd-a84c-d02758086d34\", element=\"7915dda0-163a-4fc2-be5d-d3cf6adf4f14\")> \n",
      "\n",
      "<selenium.webdriver.remote.webelement.WebElement (session=\"9a934b26-9c20-48fd-a84c-d02758086d34\", element=\"71048c2a-963c-464d-99db-35929e35a044\")> \n",
      "\n",
      "<selenium.webdriver.remote.webelement.WebElement (session=\"9a934b26-9c20-48fd-a84c-d02758086d34\", element=\"f87e6bbd-09d3-41f2-99d7-d009cd7b1bd1\")> \n",
      "\n"
     ]
    }
   ],
   "source": [
    "for thumbnail in thumbnails:\n",
    "    print(thumbnail,'\\n')"
   ]
  },
  {
   "cell_type": "code",
   "execution_count": 61,
   "id": "c5688873",
   "metadata": {},
   "outputs": [
    {
     "data": {
      "text/plain": [
       "[<selenium.webdriver.remote.webelement.WebElement (session=\"807da976-2066-4c99-8e02-015684b8070f\", element=\"f3d38dcf-d5b4-48c1-a78e-d48868efc126\")>,\n",
       " <selenium.webdriver.remote.webelement.WebElement (session=\"807da976-2066-4c99-8e02-015684b8070f\", element=\"c6475c29-8067-4a48-b122-0bd976871373\")>,\n",
       " <selenium.webdriver.remote.webelement.WebElement (session=\"807da976-2066-4c99-8e02-015684b8070f\", element=\"af38575e-e956-4ca0-988d-454850d3c7b8\")>,\n",
       " <selenium.webdriver.remote.webelement.WebElement (session=\"807da976-2066-4c99-8e02-015684b8070f\", element=\"bf703b39-7e38-4fd3-9e06-faee6231bd3d\")>,\n",
       " <selenium.webdriver.remote.webelement.WebElement (session=\"807da976-2066-4c99-8e02-015684b8070f\", element=\"7f741f65-0946-468a-bb29-ad175cbca767\")>,\n",
       " <selenium.webdriver.remote.webelement.WebElement (session=\"807da976-2066-4c99-8e02-015684b8070f\", element=\"070bb202-739d-4f0f-96a4-e7a8a1847be8\")>,\n",
       " <selenium.webdriver.remote.webelement.WebElement (session=\"807da976-2066-4c99-8e02-015684b8070f\", element=\"290d2e3e-8bd8-4821-b1c2-af3b459b1d58\")>,\n",
       " <selenium.webdriver.remote.webelement.WebElement (session=\"807da976-2066-4c99-8e02-015684b8070f\", element=\"f099632e-5673-47ce-9a1b-6d2c2dc7e10b\")>,\n",
       " <selenium.webdriver.remote.webelement.WebElement (session=\"807da976-2066-4c99-8e02-015684b8070f\", element=\"001ad5f7-ab4c-4776-a8b9-27017b5ec140\")>,\n",
       " <selenium.webdriver.remote.webelement.WebElement (session=\"807da976-2066-4c99-8e02-015684b8070f\", element=\"d54ac9cb-933c-420b-933a-b8c4cac9cba9\")>,\n",
       " <selenium.webdriver.remote.webelement.WebElement (session=\"807da976-2066-4c99-8e02-015684b8070f\", element=\"c72d0a1d-20a6-43d2-8c5c-1ec664158737\")>,\n",
       " <selenium.webdriver.remote.webelement.WebElement (session=\"807da976-2066-4c99-8e02-015684b8070f\", element=\"98cd17a6-6630-4d16-b0ea-a9299480031b\")>,\n",
       " <selenium.webdriver.remote.webelement.WebElement (session=\"807da976-2066-4c99-8e02-015684b8070f\", element=\"eb7b53ee-23ef-4228-84e9-ecd20e8a782f\")>,\n",
       " <selenium.webdriver.remote.webelement.WebElement (session=\"807da976-2066-4c99-8e02-015684b8070f\", element=\"d4348954-c0c7-4320-83a3-b9d46489106e\")>,\n",
       " <selenium.webdriver.remote.webelement.WebElement (session=\"807da976-2066-4c99-8e02-015684b8070f\", element=\"f26848f1-1b9c-4770-84ae-ef8473e3ce3d\")>,\n",
       " <selenium.webdriver.remote.webelement.WebElement (session=\"807da976-2066-4c99-8e02-015684b8070f\", element=\"9e624e1f-9f47-4364-8335-c897db3e3706\")>,\n",
       " <selenium.webdriver.remote.webelement.WebElement (session=\"807da976-2066-4c99-8e02-015684b8070f\", element=\"cb1d24bf-67a2-493e-b6a0-2a93316bfee9\")>,\n",
       " <selenium.webdriver.remote.webelement.WebElement (session=\"807da976-2066-4c99-8e02-015684b8070f\", element=\"c147f6e4-bda4-4d18-9b68-f0d5d1d06dad\")>,\n",
       " <selenium.webdriver.remote.webelement.WebElement (session=\"807da976-2066-4c99-8e02-015684b8070f\", element=\"5b8a6ac8-87c4-483a-b64e-813c0630de6c\")>,\n",
       " <selenium.webdriver.remote.webelement.WebElement (session=\"807da976-2066-4c99-8e02-015684b8070f\", element=\"1ec31ffa-d066-4276-93bd-22b06aec442d\")>,\n",
       " <selenium.webdriver.remote.webelement.WebElement (session=\"807da976-2066-4c99-8e02-015684b8070f\", element=\"82d42f32-cdbe-479d-9ec5-03fc68eaedfc\")>,\n",
       " <selenium.webdriver.remote.webelement.WebElement (session=\"807da976-2066-4c99-8e02-015684b8070f\", element=\"f41f56c3-80ef-4d8a-b244-f9b9cf9b1781\")>,\n",
       " <selenium.webdriver.remote.webelement.WebElement (session=\"807da976-2066-4c99-8e02-015684b8070f\", element=\"b4b71794-6559-4b58-85b8-8e54d1a091b1\")>,\n",
       " <selenium.webdriver.remote.webelement.WebElement (session=\"807da976-2066-4c99-8e02-015684b8070f\", element=\"30f7026f-656d-4606-8c37-9ed6ff51a162\")>,\n",
       " <selenium.webdriver.remote.webelement.WebElement (session=\"807da976-2066-4c99-8e02-015684b8070f\", element=\"a9d19c5c-3f2a-4af2-80ed-a732938f229f\")>,\n",
       " <selenium.webdriver.remote.webelement.WebElement (session=\"807da976-2066-4c99-8e02-015684b8070f\", element=\"b9b0abf2-4f23-4d5b-9df1-a8857c6c5aa6\")>,\n",
       " <selenium.webdriver.remote.webelement.WebElement (session=\"807da976-2066-4c99-8e02-015684b8070f\", element=\"20aaad43-fba8-45f1-b3bc-a989f9d2c3f0\")>,\n",
       " <selenium.webdriver.remote.webelement.WebElement (session=\"807da976-2066-4c99-8e02-015684b8070f\", element=\"cd694bbf-8d7d-47e2-ad5c-ffec9861169c\")>,\n",
       " <selenium.webdriver.remote.webelement.WebElement (session=\"807da976-2066-4c99-8e02-015684b8070f\", element=\"0dd61cc4-95e1-42d8-bd3e-2c4cf982b700\")>,\n",
       " <selenium.webdriver.remote.webelement.WebElement (session=\"807da976-2066-4c99-8e02-015684b8070f\", element=\"a28df028-5b41-4afd-a6ea-b6b6791580f2\")>,\n",
       " <selenium.webdriver.remote.webelement.WebElement (session=\"807da976-2066-4c99-8e02-015684b8070f\", element=\"88eb8d64-2d24-44c3-aa58-314e95474614\")>,\n",
       " <selenium.webdriver.remote.webelement.WebElement (session=\"807da976-2066-4c99-8e02-015684b8070f\", element=\"bcd97189-d355-40e9-b63e-8d8f5ee0bf72\")>,\n",
       " <selenium.webdriver.remote.webelement.WebElement (session=\"807da976-2066-4c99-8e02-015684b8070f\", element=\"ff295553-eec9-4da4-9881-f7b1e7636fe9\")>,\n",
       " <selenium.webdriver.remote.webelement.WebElement (session=\"807da976-2066-4c99-8e02-015684b8070f\", element=\"e3327466-b728-4312-bef4-b57e1eafecb5\")>,\n",
       " <selenium.webdriver.remote.webelement.WebElement (session=\"807da976-2066-4c99-8e02-015684b8070f\", element=\"39bb8e82-89b7-4046-9fa7-b654f1d4af03\")>]"
      ]
     },
     "execution_count": 61,
     "metadata": {},
     "output_type": "execute_result"
    }
   ],
   "source": [
    "many"
   ]
  },
  {
   "cell_type": "code",
   "execution_count": null,
   "id": "b371225f",
   "metadata": {},
   "outputs": [],
   "source": []
  },
  {
   "cell_type": "code",
   "execution_count": null,
   "id": "c470fac7",
   "metadata": {},
   "outputs": [],
   "source": []
  },
  {
   "cell_type": "code",
   "execution_count": null,
   "id": "dd67ec40",
   "metadata": {},
   "outputs": [],
   "source": []
  },
  {
   "cell_type": "code",
   "execution_count": null,
   "id": "99f5d800",
   "metadata": {},
   "outputs": [],
   "source": []
  },
  {
   "cell_type": "code",
   "execution_count": null,
   "id": "f8ebe4f0",
   "metadata": {},
   "outputs": [],
   "source": []
  },
  {
   "cell_type": "code",
   "execution_count": null,
   "id": "df3b577a",
   "metadata": {},
   "outputs": [],
   "source": []
  },
  {
   "cell_type": "code",
   "execution_count": null,
   "id": "eb4f9301",
   "metadata": {},
   "outputs": [],
   "source": []
  },
  {
   "cell_type": "code",
   "execution_count": null,
   "id": "567b72b8",
   "metadata": {},
   "outputs": [],
   "source": []
  },
  {
   "cell_type": "code",
   "execution_count": null,
   "id": "2d9ff19b",
   "metadata": {},
   "outputs": [],
   "source": []
  },
  {
   "cell_type": "code",
   "execution_count": null,
   "id": "6bfb6c18",
   "metadata": {},
   "outputs": [],
   "source": []
  },
  {
   "cell_type": "code",
   "execution_count": null,
   "id": "ebeb42c7",
   "metadata": {},
   "outputs": [],
   "source": []
  },
  {
   "cell_type": "code",
   "execution_count": null,
   "id": "c4bc0411",
   "metadata": {},
   "outputs": [],
   "source": []
  },
  {
   "cell_type": "code",
   "execution_count": null,
   "id": "9de492dc",
   "metadata": {},
   "outputs": [],
   "source": []
  },
  {
   "cell_type": "code",
   "execution_count": null,
   "id": "c08e5cd7",
   "metadata": {},
   "outputs": [],
   "source": []
  },
  {
   "cell_type": "code",
   "execution_count": 232,
   "id": "eceb7ed5",
   "metadata": {},
   "outputs": [
    {
     "name": "stdout",
     "output_type": "stream",
     "text": [
      "200\n"
     ]
    }
   ],
   "source": [
    "# Have to insert a function for reserve search on bing\n",
    "url = \"https://www.bing.com/images/search?view=detailV2&insightstoken=bcid_RNkFw2SSrzcFBw*ccid_2QXDZJKv&form=SBISAP&iss=SBIUPLOADGET&sbisrc=ImgPicker&q=image%3Abcid_RNkFw2SSrzcFqxcxoNWLuD9SqbotqVTdP0A&ssp=1&setlang=en-gb&cc=ZA&pc=SANSAAND&selectedindex=0&id=A786096057D08F9E6D6293F8D511C0CF3546AEFD&ccid=i8Z4OWtn&exph=2250&expw=1688&vt=2&sim=11&safesearch=moderate&simid=608029651599634254&ck=F47B5EA7B8D0A91E59DEB4CFBEBFB5D9&thid=OIP.i8Z4OWtn-48xa50chV4r8wHaJ3&mediaurl=https%3A%2F%2Fimages.pexels.com%2Fphotos%2F1398145%2Fpexels-photo-1398145.jpeg%3Fauto%3Dcompress%26cs%3Dtinysrgb%26dpr%3D3%26h%3D750%26w%3D1260&cdnurl=https%3A%2F%2Fth.bing.com%2Fth%2Fid%2FR.8bc678396b67fb8f316b9d1c855e2bf3%3Frik%3D%252fa5GNc%252fAEdX4kw%26pid%3DImgRaw%26r%3D0&pivotparams=insightsToken%3Dbcid_RNkFw2SSrzcFBw*ccid_2QXDZJKv\"\n",
    "headers = {'User-Agent':'Mozilla/5.0 (Windows NT 10.0; Win64; x64) AppleWebKit/537.36 (KHTML, like Gecko) Chrome/58.0.3029.110 Safari/537.3'}\n",
    "\n",
    "response = requests.get(url, headers = headers)\n",
    "\n",
    "if response.status_code == requests.codes.not_found:\n",
    "    print(\"Not found\")\n",
    "else:\n",
    "    print(response.status_code)\n",
    "    \n",
    "    \n",
    "response_text = response.text\n",
    "soup = BeautifulSoup(response_text, 'lxml')\n",
    "\n",
    "soup.select('img[src^=https://th.bing.com/th/id]')    "
   ]
  },
  {
   "cell_type": "code",
   "execution_count": 233,
   "id": "fb34d179",
   "metadata": {},
   "outputs": [
    {
     "ename": "SelectorSyntaxError",
     "evalue": "Malformed attribute selector at position 3\n  line 1:\nimg[src^=https://th.bing.com/th/id]\n   ^",
     "output_type": "error",
     "traceback": [
      "\u001b[0;31m---------------------------------------------------------------------------\u001b[0m",
      "\u001b[0;31mSelectorSyntaxError\u001b[0m                       Traceback (most recent call last)",
      "\u001b[0;32m/tmp/ipykernel_260571/3682823205.py\u001b[0m in \u001b[0;36m<module>\u001b[0;34m\u001b[0m\n\u001b[1;32m      2\u001b[0m \u001b[0msoup\u001b[0m \u001b[0;34m=\u001b[0m \u001b[0mBeautifulSoup\u001b[0m\u001b[0;34m(\u001b[0m\u001b[0mresponse_text\u001b[0m\u001b[0;34m,\u001b[0m \u001b[0;34m'lxml'\u001b[0m\u001b[0;34m)\u001b[0m\u001b[0;34m\u001b[0m\u001b[0;34m\u001b[0m\u001b[0m\n\u001b[1;32m      3\u001b[0m \u001b[0;34m\u001b[0m\u001b[0m\n\u001b[0;32m----> 4\u001b[0;31m \u001b[0msoup\u001b[0m\u001b[0;34m.\u001b[0m\u001b[0mselect\u001b[0m\u001b[0;34m(\u001b[0m\u001b[0;34m'img[src^=https://th.bing.com/th/id]'\u001b[0m\u001b[0;34m)\u001b[0m\u001b[0;34m\u001b[0m\u001b[0;34m\u001b[0m\u001b[0m\n\u001b[0m",
      "\u001b[0;32m~/miniconda3/envs/tf_38gpu/lib/python3.8/site-packages/bs4/element.py\u001b[0m in \u001b[0;36mselect\u001b[0;34m(self, selector, namespaces, limit, **kwargs)\u001b[0m\n\u001b[1;32m   1971\u001b[0m             )\n\u001b[1;32m   1972\u001b[0m \u001b[0;34m\u001b[0m\u001b[0m\n\u001b[0;32m-> 1973\u001b[0;31m         \u001b[0mresults\u001b[0m \u001b[0;34m=\u001b[0m \u001b[0msoupsieve\u001b[0m\u001b[0;34m.\u001b[0m\u001b[0mselect\u001b[0m\u001b[0;34m(\u001b[0m\u001b[0mselector\u001b[0m\u001b[0;34m,\u001b[0m \u001b[0mself\u001b[0m\u001b[0;34m,\u001b[0m \u001b[0mnamespaces\u001b[0m\u001b[0;34m,\u001b[0m \u001b[0mlimit\u001b[0m\u001b[0;34m,\u001b[0m \u001b[0;34m**\u001b[0m\u001b[0mkwargs\u001b[0m\u001b[0;34m)\u001b[0m\u001b[0;34m\u001b[0m\u001b[0;34m\u001b[0m\u001b[0m\n\u001b[0m\u001b[1;32m   1974\u001b[0m \u001b[0;34m\u001b[0m\u001b[0m\n\u001b[1;32m   1975\u001b[0m         \u001b[0;31m# We do this because it's more consistent and because\u001b[0m\u001b[0;34m\u001b[0m\u001b[0;34m\u001b[0m\u001b[0;34m\u001b[0m\u001b[0m\n",
      "\u001b[0;32m~/miniconda3/envs/tf_38gpu/lib/python3.8/site-packages/soupsieve/__init__.py\u001b[0m in \u001b[0;36mselect\u001b[0;34m(select, tag, namespaces, limit, flags, custom, **kwargs)\u001b[0m\n\u001b[1;32m    142\u001b[0m     \u001b[0;34m\"\"\"Select the specified tags.\"\"\"\u001b[0m\u001b[0;34m\u001b[0m\u001b[0;34m\u001b[0m\u001b[0m\n\u001b[1;32m    143\u001b[0m \u001b[0;34m\u001b[0m\u001b[0m\n\u001b[0;32m--> 144\u001b[0;31m     \u001b[0;32mreturn\u001b[0m \u001b[0mcompile\u001b[0m\u001b[0;34m(\u001b[0m\u001b[0mselect\u001b[0m\u001b[0;34m,\u001b[0m \u001b[0mnamespaces\u001b[0m\u001b[0;34m,\u001b[0m \u001b[0mflags\u001b[0m\u001b[0;34m,\u001b[0m \u001b[0;34m**\u001b[0m\u001b[0mkwargs\u001b[0m\u001b[0;34m)\u001b[0m\u001b[0;34m.\u001b[0m\u001b[0mselect\u001b[0m\u001b[0;34m(\u001b[0m\u001b[0mtag\u001b[0m\u001b[0;34m,\u001b[0m \u001b[0mlimit\u001b[0m\u001b[0;34m)\u001b[0m\u001b[0;34m\u001b[0m\u001b[0;34m\u001b[0m\u001b[0m\n\u001b[0m\u001b[1;32m    145\u001b[0m \u001b[0;34m\u001b[0m\u001b[0m\n\u001b[1;32m    146\u001b[0m \u001b[0;34m\u001b[0m\u001b[0m\n",
      "\u001b[0;32m~/miniconda3/envs/tf_38gpu/lib/python3.8/site-packages/soupsieve/__init__.py\u001b[0m in \u001b[0;36mcompile\u001b[0;34m(pattern, namespaces, flags, custom, **kwargs)\u001b[0m\n\u001b[1;32m     65\u001b[0m         \u001b[0;32mreturn\u001b[0m \u001b[0mpattern\u001b[0m\u001b[0;34m\u001b[0m\u001b[0;34m\u001b[0m\u001b[0m\n\u001b[1;32m     66\u001b[0m \u001b[0;34m\u001b[0m\u001b[0m\n\u001b[0;32m---> 67\u001b[0;31m     \u001b[0;32mreturn\u001b[0m \u001b[0mcp\u001b[0m\u001b[0;34m.\u001b[0m\u001b[0m_cached_css_compile\u001b[0m\u001b[0;34m(\u001b[0m\u001b[0mpattern\u001b[0m\u001b[0;34m,\u001b[0m \u001b[0mns\u001b[0m\u001b[0;34m,\u001b[0m \u001b[0mcs\u001b[0m\u001b[0;34m,\u001b[0m \u001b[0mflags\u001b[0m\u001b[0;34m)\u001b[0m\u001b[0;34m\u001b[0m\u001b[0;34m\u001b[0m\u001b[0m\n\u001b[0m\u001b[1;32m     68\u001b[0m \u001b[0;34m\u001b[0m\u001b[0m\n\u001b[1;32m     69\u001b[0m \u001b[0;34m\u001b[0m\u001b[0m\n",
      "\u001b[0;32m~/miniconda3/envs/tf_38gpu/lib/python3.8/site-packages/soupsieve/css_parser.py\u001b[0m in \u001b[0;36m_cached_css_compile\u001b[0;34m(pattern, namespaces, custom, flags)\u001b[0m\n\u001b[1;32m    216\u001b[0m     return cm.SoupSieve(\n\u001b[1;32m    217\u001b[0m         \u001b[0mpattern\u001b[0m\u001b[0;34m,\u001b[0m\u001b[0;34m\u001b[0m\u001b[0;34m\u001b[0m\u001b[0m\n\u001b[0;32m--> 218\u001b[0;31m         CSSParser(\n\u001b[0m\u001b[1;32m    219\u001b[0m             \u001b[0mpattern\u001b[0m\u001b[0;34m,\u001b[0m\u001b[0;34m\u001b[0m\u001b[0;34m\u001b[0m\u001b[0m\n\u001b[1;32m    220\u001b[0m             \u001b[0mcustom\u001b[0m\u001b[0;34m=\u001b[0m\u001b[0mcustom_selectors\u001b[0m\u001b[0;34m,\u001b[0m\u001b[0;34m\u001b[0m\u001b[0;34m\u001b[0m\u001b[0m\n",
      "\u001b[0;32m~/miniconda3/envs/tf_38gpu/lib/python3.8/site-packages/soupsieve/css_parser.py\u001b[0m in \u001b[0;36mprocess_selectors\u001b[0;34m(self, index, flags)\u001b[0m\n\u001b[1;32m   1157\u001b[0m         \u001b[0;34m\"\"\"Process selectors.\"\"\"\u001b[0m\u001b[0;34m\u001b[0m\u001b[0;34m\u001b[0m\u001b[0m\n\u001b[1;32m   1158\u001b[0m \u001b[0;34m\u001b[0m\u001b[0m\n\u001b[0;32m-> 1159\u001b[0;31m         \u001b[0;32mreturn\u001b[0m \u001b[0mself\u001b[0m\u001b[0;34m.\u001b[0m\u001b[0mparse_selectors\u001b[0m\u001b[0;34m(\u001b[0m\u001b[0mself\u001b[0m\u001b[0;34m.\u001b[0m\u001b[0mselector_iter\u001b[0m\u001b[0;34m(\u001b[0m\u001b[0mself\u001b[0m\u001b[0;34m.\u001b[0m\u001b[0mpattern\u001b[0m\u001b[0;34m)\u001b[0m\u001b[0;34m,\u001b[0m \u001b[0mindex\u001b[0m\u001b[0;34m,\u001b[0m \u001b[0mflags\u001b[0m\u001b[0;34m)\u001b[0m\u001b[0;34m\u001b[0m\u001b[0;34m\u001b[0m\u001b[0m\n\u001b[0m\u001b[1;32m   1160\u001b[0m \u001b[0;34m\u001b[0m\u001b[0m\n\u001b[1;32m   1161\u001b[0m \u001b[0;34m\u001b[0m\u001b[0m\n",
      "\u001b[0;32m~/miniconda3/envs/tf_38gpu/lib/python3.8/site-packages/soupsieve/css_parser.py\u001b[0m in \u001b[0;36mparse_selectors\u001b[0;34m(self, iselector, index, flags)\u001b[0m\n\u001b[1;32m    983\u001b[0m         \u001b[0;32mtry\u001b[0m\u001b[0;34m:\u001b[0m\u001b[0;34m\u001b[0m\u001b[0;34m\u001b[0m\u001b[0m\n\u001b[1;32m    984\u001b[0m             \u001b[0;32mwhile\u001b[0m \u001b[0;32mTrue\u001b[0m\u001b[0;34m:\u001b[0m\u001b[0;34m\u001b[0m\u001b[0;34m\u001b[0m\u001b[0m\n\u001b[0;32m--> 985\u001b[0;31m                 \u001b[0mkey\u001b[0m\u001b[0;34m,\u001b[0m \u001b[0mm\u001b[0m \u001b[0;34m=\u001b[0m \u001b[0mnext\u001b[0m\u001b[0;34m(\u001b[0m\u001b[0miselector\u001b[0m\u001b[0;34m)\u001b[0m\u001b[0;34m\u001b[0m\u001b[0;34m\u001b[0m\u001b[0m\n\u001b[0m\u001b[1;32m    986\u001b[0m \u001b[0;34m\u001b[0m\u001b[0m\n\u001b[1;32m    987\u001b[0m                 \u001b[0;31m# Handle parts\u001b[0m\u001b[0;34m\u001b[0m\u001b[0;34m\u001b[0m\u001b[0;34m\u001b[0m\u001b[0m\n",
      "\u001b[0;32m~/miniconda3/envs/tf_38gpu/lib/python3.8/site-packages/soupsieve/css_parser.py\u001b[0m in \u001b[0;36mselector_iter\u001b[0;34m(self, pattern)\u001b[0m\n\u001b[1;32m   1150\u001b[0m                 \u001b[0;32melse\u001b[0m\u001b[0;34m:\u001b[0m\u001b[0;34m\u001b[0m\u001b[0;34m\u001b[0m\u001b[0m\n\u001b[1;32m   1151\u001b[0m                     \u001b[0mmsg\u001b[0m \u001b[0;34m=\u001b[0m \u001b[0;34m\"Invalid character {!r} position {}\"\u001b[0m\u001b[0;34m.\u001b[0m\u001b[0mformat\u001b[0m\u001b[0;34m(\u001b[0m\u001b[0mc\u001b[0m\u001b[0;34m,\u001b[0m \u001b[0mindex\u001b[0m\u001b[0;34m)\u001b[0m\u001b[0;34m\u001b[0m\u001b[0;34m\u001b[0m\u001b[0m\n\u001b[0;32m-> 1152\u001b[0;31m                 \u001b[0;32mraise\u001b[0m \u001b[0mSelectorSyntaxError\u001b[0m\u001b[0;34m(\u001b[0m\u001b[0mmsg\u001b[0m\u001b[0;34m,\u001b[0m \u001b[0mself\u001b[0m\u001b[0;34m.\u001b[0m\u001b[0mpattern\u001b[0m\u001b[0;34m,\u001b[0m \u001b[0mindex\u001b[0m\u001b[0;34m)\u001b[0m\u001b[0;34m\u001b[0m\u001b[0;34m\u001b[0m\u001b[0m\n\u001b[0m\u001b[1;32m   1153\u001b[0m         \u001b[0;32mif\u001b[0m \u001b[0mself\u001b[0m\u001b[0;34m.\u001b[0m\u001b[0mdebug\u001b[0m\u001b[0;34m:\u001b[0m  \u001b[0;31m# pragma: no cover\u001b[0m\u001b[0;34m\u001b[0m\u001b[0;34m\u001b[0m\u001b[0m\n\u001b[1;32m   1154\u001b[0m             \u001b[0mprint\u001b[0m\u001b[0;34m(\u001b[0m\u001b[0;34m'## END PARSING'\u001b[0m\u001b[0;34m)\u001b[0m\u001b[0;34m\u001b[0m\u001b[0;34m\u001b[0m\u001b[0m\n",
      "\u001b[0;31mSelectorSyntaxError\u001b[0m: Malformed attribute selector at position 3\n  line 1:\nimg[src^=https://th.bing.com/th/id]\n   ^"
     ]
    }
   ],
   "source": []
  },
  {
   "cell_type": "code",
   "execution_count": null,
   "id": "a5d44879",
   "metadata": {},
   "outputs": [],
   "source": [
    "#detailCanvas > div.insights > div > div.tab-content.atb"
   ]
  },
  {
   "cell_type": "code",
   "execution_count": 178,
   "id": "ae28fe97",
   "metadata": {},
   "outputs": [],
   "source": []
  },
  {
   "cell_type": "code",
   "execution_count": 211,
   "id": "bfed5c89",
   "metadata": {},
   "outputs": [],
   "source": [
    "import bs4\n",
    "import requests\n",
    "import urllib.request\n",
    "from urllib.request import urlopen\n",
    "from bs4 import BeautifulSoup\n",
    "url='https://www.bing.com/images/search?view=detailV2&insightstoken=bcid_RNkFw2SSrzcFBw*ccid_2QXDZJKv*cp_F47B5EA7B8D0A91E59DEB4CFBEBFB5D9&form=SBISAP&iss=SBIUPLOADGET&sbisrc=ImgPicker&q=image%3Abcid_RNkFw2SSrzcFqxcxoNWLuD9SqbotqVTdP0A&ssp=1&setlang=en-gb&cc=ZA&pc=SANSAAND&selectedindex=0&id=-2126720293&ccid=2QXDZJKv&exph=2250&expw=1688&vt=2&sim=1&safesearch=moderate&ck=F47B5EA7B8D0A91E59DEB4CFBEBFB5D9&thid=OIP.i8Z4OWtn-48xa50chV4r8wHaJ3&mediaurl=https%3A%2F%2Fimages.pexels.com%2Fphotos%2F1398145%2Fpexels-photo-1398145.jpeg%3Fauto%3Dcompress%26cs%3Dtinysrgb%26dpr%3D3%26h%3D750%26w%3D1260&cdnurl=https%3A%2F%2Fth.bing.com%2Fth%2Fid%2FR.8bc678396b67fb8f316b9d1c855e2bf3%3Frik%3D%252fa5GNc%252fAEdX4kw%26pid%3DImgRaw%26r%3D0&pivotparams=insightsToken%3Dbcid_RNkFw2SSrzcFBw*ccid_2QXDZJKv'\n",
    "\n",
    "# url='https://www.ebay.com/sch/i.html?_from=R40&_nkw=%E4%B8%83%E5%BD%A9%E8%99%B9+graphics+card&_sacat=0&LH_TitleDesc=0&rt=nc&Brand=Colorful&_dcat=27386'\n",
    "page=urllib.request.urlopen(url)\n",
    "page_soup=BeautifulSoup(page,'html.parser')\n",
    "# img_items=page_soup.find('div',id='srp-river-results')\n",
    "# img_div=img_items.find_all('div',{'class':'s-item__image'})"
   ]
  },
  {
   "cell_type": "code",
   "execution_count": 240,
   "id": "7ea97c31",
   "metadata": {},
   "outputs": [
    {
     "data": {
      "text/plain": [
       "[<li><a h=\"ID=images,5109.1\" href=\"http://go.microsoft.com/fwlink/?LinkId=521839\" id=\"sb_privacy\">Privacy and Cookies</a></li>,\n",
       " <li><a h=\"ID=images,5110.1\" href=\"http://go.microsoft.com/fwlink/?LinkID=246338\" id=\"sb_legal\">Legal</a></li>,\n",
       " <li><a h=\"ID=images,5111.1\" href=\"https://go.microsoft.com/fwlink/?linkid=868922\" id=\"sb_advertise\">Advertise</a></li>,\n",
       " <li><a h=\"ID=images,5112.1\" href=\"https://support.microsoft.com/topic/82d20721-2d6f-4012-a13d-d1910ccf203f\" id=\"sb_help\" target=\"_blank\">Help</a></li>,\n",
       " <li><a h=\"ID=images,5113.1\" href=\"#\" id=\"sb_feedback\" role=\"button\">Feedback</a></li>]"
      ]
     },
     "execution_count": 240,
     "metadata": {},
     "output_type": "execute_result"
    }
   ],
   "source": [
    "page_soup.select('li')"
   ]
  },
  {
   "cell_type": "code",
   "execution_count": 234,
   "id": "d23e7f06",
   "metadata": {},
   "outputs": [
    {
     "data": {
      "text/plain": [
       "[<img src=\"https://th.bing.com/th/id/R.8bc678396b67fb8f316b9d1c855e2bf3?rik=%2fa5GNc%2fAEdX4kw&amp;pid=ImgRaw&amp;r=0\" style=\"display: none\"/>]"
      ]
     },
     "execution_count": 234,
     "metadata": {},
     "output_type": "execute_result"
    }
   ],
   "source": [
    "page_soup.select('img[src^=\"https://th.bing.com/th/id\"]')"
   ]
  },
  {
   "cell_type": "code",
   "execution_count": 236,
   "id": "07c22934",
   "metadata": {},
   "outputs": [
    {
     "data": {
      "text/plain": [
       "[<img src=\"https://th.bing.com/th/id/R.8bc678396b67fb8f316b9d1c855e2bf3?rik=%2fa5GNc%2fAEdX4kw&amp;pid=ImgRaw&amp;r=0\" style=\"display: none\"/>,\n",
       " <img alt=\"\" class=\"flagIcon\" src=\"/sa/simg/Flag_Feedback.png\"/>]"
      ]
     },
     "execution_count": 236,
     "metadata": {},
     "output_type": "execute_result"
    }
   ],
   "source": [
    "page_soup.find_all('img')"
   ]
  },
  {
   "cell_type": "code",
   "execution_count": 203,
   "id": "bc0b596b",
   "metadata": {},
   "outputs": [
    {
     "data": {
      "text/plain": [
       "[<div class=\"s-item__image\"><a _sp=\"p2351460.m1686.l8340\" aria-hidden=\"true\" data-carousel-tabindex=\"-1\" data-s-qucx024='{\"eventFamily\":\"LST\",\"eventAction\":\"ACTN\",\"actionKind\":\"NAVSRC\",\"actionKinds\":[\"NAVSRC\"],\"operationId\":\"2351460\",\"flushImmediately\":false,\"eventProperty\":{\"$l\":\"2765114900084540\"}}' href=\"https://www.ebay.com/itm/314067439900?hash=item491fe0d11c:g:eWAAAOSwSDZiydG9&amp;amdata=enc%3AAQAHAAAA8EVAsDXR4fSpjoV12VVoVS%2Bs2H9WlOihbb%2BfhIuE6Eq9L3AnkQ9E1oTCalqf9001dnhkl0oxX1DA55E6yuRtKBqRzo9wwCTC50v%2Fyq32AE%2BPgmYsjLmGBhHwh5J1sFM4fcHWLZMo2q60IywbIkD1slRQMWtS6prg6qrPJiRoNC7tEKvodMRPk4kPpXuFlxXHOEX2pBOhy%2Bp1LPExalAeJtfiFSzZwaj9NwHLBNp9OHeEuBcku%2B2gzFhIfYKjRbPWaPG9KdfQ666IFQXgnpgGPJYv2NOTVRJx0%2Fb4x6o2gv7hczYr8BfO2Et716dZ%2FFG2Tg%3D%3D%7Ctkp%3ABFBMhu_ki8Zh\" tabindex=\"-1\" target=\"_blank\"><div class=\"s-item__image-wrapper image-treatment\"><img alt=\"Colorful GeForce GT 1030 4GB DDR4 RAM Graphics Card with Single Fan\" fetchpriority=\"high\" loading=\"eager\" onerror=\"window.SRP.metrics.incrementCounter('imageLoadError');\" onload=\"SITE_SPEED.ATF_TIMER.measure(this); if (performance &amp;&amp; performance.mark) { performance.mark(&quot;first-meaningful-paint&quot;); };if(this.width === 80 &amp;&amp; this.height === 80) {window.SRP.metrics.incrementCounter('imageEmptyError');}\" src=\"https://i.ebayimg.com/thumbs/images/g/eWAAAOSwSDZiydG9/s-l225.jpg\"/></div></a></div>,\n",
       " <div class=\"s-item__image\"><a _sp=\"p2351460.m1686.l8340\" aria-hidden=\"true\" data-carousel-tabindex=\"-1\" data-s-qucx024='{\"eventFamily\":\"LST\",\"eventAction\":\"ACTN\",\"actionKind\":\"NAVSRC\",\"actionKinds\":[\"NAVSRC\"],\"operationId\":\"2351460\",\"flushImmediately\":false,\"eventProperty\":{\"$l\":\"2765114900827226\"}}' href=\"https://www.ebay.com/itm/266011696561?hash=item3def885db1:g:zg8AAOSwkHdjd2G5&amp;amdata=enc%3AAQAHAAAA8Ev7TiKKGTMIR1mpvqJpk88srxRNNjSm4ThPf6tVHPO%2By%2BI%2F9JcPsYfO0BsrToOEwxiaHRRJ0dp8lkcqoqWg7S3GVHSlCNQLUxGiuI4317%2FrjS%2F580gPQcSGnKIY7BfYRZDhyp%2FmYsR2uhemttP%2F4Fv3Fw%2BCPN%2BakJdpg%2BOoYxIs%2FY3rTMQnlmh1PdATUCBDBX6LkWRxwuSMg5ZRPZuChlOqKfHMxZ%2F2oJw6drkHShADuIDaBeKQ29KvuBfSTc3FK%2FB20tvN5InWT5h%2B2y9NaKUoT2MvC3JxchKFiyTa5a9XH3XWGtDm72Omhr%2BIP%2BRIGA%3D%3D%7Ctkp%3ABFBMiO_ki8Zh\" tabindex=\"-1\" target=\"_blank\"><div class=\"s-item__image-wrapper image-treatment\"><img alt=\"Graphics Card Video Card nvidia Geforce GTX 1660 Super DDR6 6GB GPU Colourful\" fetchpriority=\"high\" loading=\"eager\" onerror=\"window.SRP.metrics.incrementCounter('imageLoadError');\" onload=\"SITE_SPEED.ATF_TIMER.measure(this);;if(this.width === 80 &amp;&amp; this.height === 80) {window.SRP.metrics.incrementCounter('imageEmptyError');}\" src=\"https://i.ebayimg.com/thumbs/images/g/zg8AAOSwkHdjd2G5/s-l225.jpg\"/></div></a></div>,\n",
       " <div class=\"s-item__image\"><a _sp=\"p2351460.m1686.l8340\" aria-hidden=\"true\" data-carousel-tabindex=\"-1\" data-s-qucx024='{\"eventFamily\":\"LST\",\"eventAction\":\"ACTN\",\"actionKind\":\"NAVSRC\",\"actionKinds\":[\"NAVSRC\"],\"operationId\":\"2351460\",\"flushImmediately\":false,\"eventProperty\":{\"$l\":\"2765114901476894\"}}' href=\"https://www.ebay.com/itm/165886150148?hash=item269f95c604:g:PN0AAOSwmTNjwvOx&amp;amdata=enc%3AAQAHAAAA8EaB%2BX%2F67ZrrdaH0kA0EddsS6QW488%2Blo%2FK8LB6nqtFejFMfofNZeHVeyo3HFcuq6zlgd3SEFU17GvFLVRqli13H%2BkULODpkNKaWgpbomd4vmd8OoDiYKSF1%2BzBLh3joV6z6nY5fI4geyV9jq0P1tW2Gt7UInesLDc%2FeGTArYLitMPZne4s8kv8MAGsrMiwvC2Lipv4jUGiUJbl%2FklcBu6eXcNtZigFDGOaUD4H5geSm9bVyZM04DLHDOVQ89IA9U32s%2FQeiJgSxjJE%2Btk50GPH%2Fh1Ufp%2FC5TYdfIYSKuaDPCqSty0rjy98TJpTugtWp1w%3D%3D%7Ctkp%3ABFBMiO_ki8Zh\" tabindex=\"-1\" target=\"_blank\"><div class=\"s-item__image-wrapper image-treatment\"><img alt=\"COLORFUL NVIDIA GEFORCE GT 1030 2GB DDR5 HDMI GRAPHICS CARD PCIE X16 V5 UC3-3(9)\" fetchpriority=\"high\" loading=\"eager\" onerror=\"window.SRP.metrics.incrementCounter('imageLoadError');\" onload=\"SITE_SPEED.ATF_TIMER.measure(this);;if(this.width === 80 &amp;&amp; this.height === 80) {window.SRP.metrics.incrementCounter('imageEmptyError');}\" src=\"https://i.ebayimg.com/thumbs/images/g/PN0AAOSwmTNjwvOx/s-l225.jpg\"/></div></a></div>,\n",
       " <div class=\"s-item__image\"><a _sp=\"p2351460.m1686.l8340\" aria-hidden=\"true\" data-carousel-tabindex=\"-1\" data-s-qucx024='{\"eventFamily\":\"LST\",\"eventAction\":\"ACTN\",\"actionKind\":\"NAVSRC\",\"actionKinds\":[\"NAVSRC\"],\"operationId\":\"2351460\",\"flushImmediately\":false,\"eventProperty\":{\"$l\":\"2765114902124731\"}}' href=\"https://www.ebay.com/itm/165886152961?hash=item269f95d101:g:FhwAAOSwNkhjwvSh&amp;amdata=enc%3AAQAHAAAA8KrkTg7wQV52OfWApHO2OSioxa2wuGVxBwVOEZEZu0WQ1nbxUnZ%2FsHuVoSzy0x%2BaGhqQ5553qCiRLF3h3KgJXf2WYBg0my153ov3OZI2XdOM%2F%2FD8ac4VMXODVUTH1e%2BGjlsDfIPpNtcaNVpuaSUE4M4QLj2czp%2BPhoWiE3fGF4lKftsPt81n4mwhOh0MpTE90mvwQGDhMN%2BO%2F3S3ZPyrPlDj6QeqjQX09jJJPWywjVprns1Apf1M6iw8LvtshgeMkJX6NRvoNamwmvO5WS77Q%2F9oIOM9re3uGv4aLkxbcrfR2DNPwmO9AX%2BQI7Qvn2bOig%3D%3D%7Ctkp%3ABFBMiO_ki8Zh\" tabindex=\"-1\" target=\"_blank\"><div class=\"s-item__image-wrapper image-treatment\"><img alt=\"COLORFUL NVIDIA GEFORCE GT 1030 2GB DDR5 HDMI GRAPHICS CARD PCIE X16 V7 UC3-3(10\" fetchpriority=\"high\" loading=\"eager\" onerror=\"window.SRP.metrics.incrementCounter('imageLoadError');\" onload=\"SITE_SPEED.ATF_TIMER.measure(this);;if(this.width === 80 &amp;&amp; this.height === 80) {window.SRP.metrics.incrementCounter('imageEmptyError');}\" src=\"https://i.ebayimg.com/thumbs/images/g/FhwAAOSwNkhjwvSh/s-l225.jpg\"/></div></a></div>,\n",
       " <div class=\"s-item__image\"><a _sp=\"p2351460.m1686.l8340\" aria-hidden=\"true\" data-carousel-tabindex=\"-1\" data-s-qucx024='{\"eventFamily\":\"LST\",\"eventAction\":\"ACTN\",\"actionKind\":\"NAVSRC\",\"actionKinds\":[\"NAVSRC\"],\"operationId\":\"2351460\",\"flushImmediately\":false,\"eventProperty\":{\"$l\":\"2765114902706828\"}}' href=\"https://www.ebay.com/itm/374483721568?hash=item5730f81d60:g:5JgAAOSwg8Vj1NKf&amp;amdata=enc%3AAQAHAAAAsDLF6Zizwt%2BHWYVICP8EmkRS7v5S3gHP2KXsjqQCMX0gvu9NpFUOCtCsFQgKNFkHPXsZXFYMqvkDmf6cG2Ik%2Fxy5sa9g6sBgUsRDcbNV6yBKt0UbVGnJvRV99GbLx1GUbUVmpDw3tD1%2BT1aViFAliQ2m%2FiPNs2Hiax7zsjzTSxEe3GcBFgP3y7O8sTLUbQtv4tPXaTbE37XXtYW4xEwTUbvRSV7ts36%2F2YW7RN%2B4ud49%7Ctkp%3ABk9SR4jv5IvGYQ\" tabindex=\"-1\" target=\"_blank\"><div class=\"s-item__image-wrapper image-treatment\"><img alt=\"Colorful GeForce GTX 1660 SUPER 6GB GDDR6 Gaming Graphics Card\" fetchpriority=\"high\" loading=\"eager\" onerror=\"window.SRP.metrics.incrementCounter('imageLoadError');\" onload=\";if(this.width === 80 &amp;&amp; this.height === 80) {window.SRP.metrics.incrementCounter('imageEmptyError');}\" src=\"https://i.ebayimg.com/thumbs/images/g/5JgAAOSwg8Vj1NKf/s-l225.jpg\"/></div></a></div>,\n",
       " <div class=\"s-item__image\"><a _sp=\"p2351460.m1686.l8340\" aria-hidden=\"true\" data-carousel-tabindex=\"-1\" data-s-qucx024='{\"eventFamily\":\"LST\",\"eventAction\":\"ACTN\",\"actionKind\":\"NAVSRC\",\"actionKinds\":[\"NAVSRC\"],\"operationId\":\"2351460\",\"flushImmediately\":false,\"eventProperty\":{\"$l\":\"2765114903211610\"}}' href=\"https://www.ebay.com/itm/374483568722?hash=item5730f5c852:g:6PgAAOSw94Fj1Kyg&amp;amdata=enc%3AAQAHAAAAsOuYoloThEj%2BTpi1%2BqEaJ3x2e3NDgefuHhqtKIVMHWtKHHxJp1MWxrtJHJD1M%2BtFiGQabsA5BcKo17EWImIutV4di8MHC7rUew3a7SbUBjNnzSDXwCZiDRTJkbNY%2FpwRY8wNupq0qe5liLAcVPhDm77LX0WnKXRcDF7MWCRLqZ7ws2lL7R3oJGoopP6%2FjODV0J2KvWsKVaiyO6s21nVWXJiH7BIyNkByeLIL2cc1%2BJAa%7Ctkp%3ABk9SR4jv5IvGYQ\" tabindex=\"-1\" target=\"_blank\"><div class=\"s-item__image-wrapper image-treatment\"><img alt=\"Colorful GeForce GTX 1050Ti 4GB GDDR5 128bit Graphics Card\" fetchpriority=\"high\" loading=\"eager\" onerror=\"window.SRP.metrics.incrementCounter('imageLoadError');\" onload=\";if(this.width === 80 &amp;&amp; this.height === 80) {window.SRP.metrics.incrementCounter('imageEmptyError');}\" src=\"https://i.ebayimg.com/thumbs/images/g/6PgAAOSw94Fj1Kyg/s-l225.jpg\"/></div></a></div>,\n",
       " <div class=\"s-item__image\"><a _sp=\"p2351460.m1686.l8340\" aria-hidden=\"true\" data-carousel-tabindex=\"-1\" data-s-qucx024='{\"eventFamily\":\"LST\",\"eventAction\":\"ACTN\",\"actionKind\":\"NAVSRC\",\"actionKinds\":[\"NAVSRC\"],\"operationId\":\"2351460\",\"flushImmediately\":false,\"eventProperty\":{\"$l\":\"2765114903771087\"}}' href=\"https://www.ebay.com/itm/115545434895?hash=item1ae70b6b0f:g:qzwAAOSwpglib~oU&amp;amdata=enc%3AAQAHAAAAoBo6rxquRnryv41ty%2FnpXO%2F3A59%2FhDYWvdqZpx3NbPRmvhT3Qr7Rf0tLe4agnJVZkM1qn%2Fz7G7lwqit%2Fjshfc44v25qzMFjKyN58eXGRIlxw4BtrCLUYiZW0JyKJe8636x%2FS4FRkNikA%2BnNt3yQFuK%2FdcKsLuStaq1%2BS%2F6r9iagj9tzASQSqrxPtf5NZDtrN7yCgy8liCfNyaXuwgfRd0DE%3D%7Ctkp%3ABk9SR4jv5IvGYQ\" tabindex=\"-1\" target=\"_blank\"><div class=\"s-item__image-wrapper image-treatment\"><img alt=\"Colorful GeForce GT730K 2GB  DDR3 Graphics Card GT 730 K\" fetchpriority=\"high\" loading=\"eager\" onerror=\"window.SRP.metrics.incrementCounter('imageLoadError');\" onload=\";if(this.width === 80 &amp;&amp; this.height === 80) {window.SRP.metrics.incrementCounter('imageEmptyError');}\" src=\"https://i.ebayimg.com/thumbs/images/g/qzwAAOSwpglib~oU/s-l225.jpg\"/></div></a></div>,\n",
       " <div class=\"s-item__image\"><a _sp=\"p2351460.m1686.l8340\" aria-hidden=\"true\" data-carousel-tabindex=\"-1\" data-s-qucx024='{\"eventFamily\":\"LST\",\"eventAction\":\"ACTN\",\"actionKind\":\"NAVSRC\",\"actionKinds\":[\"NAVSRC\"],\"operationId\":\"2351460\",\"flushImmediately\":false,\"eventProperty\":{\"$l\":\"2765114904311144\"}}' href=\"https://www.ebay.com/itm/314212036460?hash=item49287f2f6c:g:5TMAAOSwBNJjYNLv&amp;amdata=enc%3AAQAHAAAAsCiBAPiPaD%2Bj82MvlT4xSuveLMs%2FsNxIc1V4JXTqgu4elsm9Vkl%2FdSZx8xpS1Wk8mmBlrM1BN4H1s1Tjfh13vque04%2BHlC7RN0CC4hHYnYt7Zm7BuHqwSTTvpaBR%2Fuejac8TNzd24%2BCYarmotipBTRU77pPNiLSMwd2W%2BPyI9hrUTDDP%2Fp%2BTb0z4aGA0BPO0GKqTwVJvvWiCxNxK%2FhWkUdzk52EsNu3BaJKv2YK2a9vV%7Ctkp%3ABk9SR4jv5IvGYQ\" tabindex=\"-1\" target=\"_blank\"><div class=\"s-item__image-wrapper image-treatment\"><img alt=\"Colorful GeForce GT 710 2GB DDR3 V3 Graphics Card\" fetchpriority=\"high\" loading=\"eager\" onerror=\"window.SRP.metrics.incrementCounter('imageLoadError');\" onload=\";if(this.width === 80 &amp;&amp; this.height === 80) {window.SRP.metrics.incrementCounter('imageEmptyError');}\" src=\"https://i.ebayimg.com/thumbs/images/g/5TMAAOSwBNJjYNLv/s-l225.jpg\"/></div></a></div>,\n",
       " <div class=\"s-item__image\"><a _sp=\"p2351460.m1686.l8340\" aria-hidden=\"true\" data-carousel-tabindex=\"-1\" data-s-qucx024='{\"eventFamily\":\"LST\",\"eventAction\":\"ACTN\",\"actionKind\":\"NAVSRC\",\"actionKinds\":[\"NAVSRC\"],\"operationId\":\"2351460\",\"flushImmediately\":false,\"eventProperty\":{\"$l\":\"2765114904897370\"}}' href=\"https://www.ebay.com/itm/194871101382?hash=item2d5f3907c6:g:WZQAAOSwe7diF1Me&amp;amdata=enc%3AAQAHAAAAsMNioaXRwS4i9aQda0nisNlGKeN28DyljeGgyRXOu6eAWnIyo9tzpDBKZWJY%2BDpW8pW1n1fx6b2EC3HO4eDyPA8vD%2BZbVcbeBWT%2B5BQbl%2F7GW%2BjOxBlxmOAsX65HN0Tomza1KJBLcLHlIos6AjIU6QmAioYD%2BOyufrxSh7Pmm9Ev6qUBhhTJfk1%2Bz4ia06qJ7AksxKXSsjvsai4OVLA%2BKCTvEyPZvIcdLkN682a1Pi4l%7Ctkp%3ABk9SR4jv5IvGYQ\" tabindex=\"-1\" target=\"_blank\"><div class=\"s-item__image-wrapper image-treatment\"><img alt=\"Colorful NVIDIA GeForce GT 730 2G GDDR5 Graphics Card DVI+VGA+HDMI 64bit Card\" fetchpriority=\"high\" loading=\"eager\" onerror=\"window.SRP.metrics.incrementCounter('imageLoadError');\" onload=\";if(this.width === 80 &amp;&amp; this.height === 80) {window.SRP.metrics.incrementCounter('imageEmptyError');}\" src=\"https://i.ebayimg.com/thumbs/images/g/WZQAAOSwe7diF1Me/s-l225.jpg\"/></div></a></div>,\n",
       " <div class=\"s-item__image\"><a _sp=\"p2351460.m1686.l8340\" aria-hidden=\"true\" data-carousel-tabindex=\"-1\" data-s-qucx024='{\"eventFamily\":\"LST\",\"eventAction\":\"ACTN\",\"actionKind\":\"NAVSRC\",\"actionKinds\":[\"NAVSRC\"],\"operationId\":\"2351460\",\"flushImmediately\":false,\"eventProperty\":{\"$l\":\"2765114905652661\"}}' href=\"https://www.ebay.com/itm/184523363721?hash=item2af6731589:g:gVUAAOSwhs1eKQiu&amp;amdata=enc%3AAQAHAAAA8OYiuHnXUrqtyGUnU2mi8whS16TQbxm02hyyDM9gmsR9oLDK2Q%2Ba73EHR%2Bvz9hNtvd790%2FERp3w7gxrZqJ22At48s6IbjpT2tEqa6XENB4jwy9bCeEpgAnsgvicJv5ku9FpNYGBuVayfm19FPSgkNIKWAPy6%2FOnWi8cm5Ph4PKwAaZSTcQ4wxqTkn3nOeWoyBjxW4n7RWFzeFPMXX847QduejAG1i81Skueh4WCCOvYhpwBMRuoXnJ9lSlWFB9feqSCSTNVmMwcK6d51NdE6Zv3Y4JB7OYTq%2B6qsXPDlKLaGrnHJ5rKd8lhMO075L8sPJQ%3D%3D%7Ctkp%3ABk9SR4jv5IvGYQ\" tabindex=\"-1\" target=\"_blank\"><div class=\"s-item__image-wrapper image-treatment\"><img alt=\"1PC COLORFUL 7010 0.30A CF-12710B 2-wire ultra-thin graphics card cooling fan\" fetchpriority=\"high\" loading=\"eager\" onerror=\"window.SRP.metrics.incrementCounter('imageLoadError');\" onload=\";if(this.width === 80 &amp;&amp; this.height === 80) {window.SRP.metrics.incrementCounter('imageEmptyError');}\" src=\"https://i.ebayimg.com/thumbs/images/g/gVUAAOSwhs1eKQiu/s-l225.jpg\"/></div></a></div>,\n",
       " <div class=\"s-item__image\"><a _sp=\"p2351460.m1686.l8340\" aria-hidden=\"true\" data-carousel-tabindex=\"-1\" data-s-qucx024='{\"eventFamily\":\"LST\",\"eventAction\":\"ACTN\",\"actionKind\":\"NAVSRC\",\"actionKinds\":[\"NAVSRC\"],\"operationId\":\"2351460\",\"flushImmediately\":false,\"eventProperty\":{\"$l\":\"2765114906509580\"}}' href=\"https://www.ebay.com/itm/265993779946?hash=item3dee76faea:g:l~kAAOSw7DljdaKd&amp;amdata=enc%3AAQAHAAAA8LaggvnO5hSeW2Kv7pEGDh48LI6vR5T31Va2B5ESL6IzdBtMynK2aeQknQ5Va69n14eLEj6gkZ1e%2Fyf%2FLkhsk66P6JBooo3aCP6me35hQmO%2B69IyQMUr893PTY9dpsVYEzODZHrvl%2BAwxtJBRIB%2F0PCgZ9VoHM84qdjebucFiC2bG0O88JzsRB484SiqU1vVv4WHa6IfXyjRiphYpV7694cAp0cA%2FRRqKzkrx1hZ%2Fm1Wc%2B%2F72KV37jXYB3nEnOzGNNSMeFDx4e99SB7FWo%2Bkn6hrObhiu4h3hLbHs22gy1%2BYtK5T7EFb7hdg8U42%2F1AVWg%3D%3D%7Ctkp%3ABk9SR4jv5IvGYQ\" tabindex=\"-1\" target=\"_blank\"><div class=\"s-item__image-wrapper image-treatment\"><img alt=\"Pair Fans Cooler Fan For Colorful GTX 1650 GTX1660Ti RTX 2060 87mm Graphics Card\" fetchpriority=\"high\" loading=\"eager\" onerror=\"window.SRP.metrics.incrementCounter('imageLoadError');\" onload=\";if(this.width === 80 &amp;&amp; this.height === 80) {window.SRP.metrics.incrementCounter('imageEmptyError');}\" src=\"https://i.ebayimg.com/thumbs/images/g/l~kAAOSw7DljdaKd/s-l225.jpg\"/></div></a></div>,\n",
       " <div class=\"s-item__image\"><a _sp=\"p2351460.m1686.l8340\" aria-hidden=\"true\" data-carousel-tabindex=\"-1\" data-s-qucx024='{\"eventFamily\":\"LST\",\"eventAction\":\"ACTN\",\"actionKind\":\"NAVSRC\",\"actionKinds\":[\"NAVSRC\"],\"operationId\":\"2351460\",\"flushImmediately\":false,\"eventProperty\":{\"$l\":\"2765114907370982\"}}' href=\"https://www.ebay.com/itm/134012182128?hash=item1f33bf9e70:g:P-oAAOSwV9Zh-cmv&amp;amdata=enc%3AAQAHAAAAsMtp%2Bndy6pB10tYGUSPE%2BxgwsZgSFCZS7QpbIcX8VL%2Fp%2FYYxqLzYMCKnoen4yJViHO%2FuSf1sL3Vg8NHfVjFHZjfGMDosXZA2IVmp5tUcd7ntJ2%2B2DQLqlskYpTY6M2UnyNC0ajFFhduLfdYyiRVX2IPzniVxtPq9CaP94GHer1gOs298jVgbNgt1G5%2FazUo6biFmtKlUQG3O5cC5fUe6QAOAFCvCgNDPShvtiq4YCUfM%7Ctkp%3ABk9SR4jv5IvGYQ\" tabindex=\"-1\" target=\"_blank\"><div class=\"s-item__image-wrapper image-treatment\"><img alt=\"Colorful IGame iGame960 U-4GD5 Graphics Card V2\" loading=\"lazy\" onerror=\"window.SRP.metrics.incrementCounter('imageLoadError');\" onload=\";if(this.width === 80 &amp;&amp; this.height === 80) {window.SRP.metrics.incrementCounter('imageEmptyError');}\" src=\"https://i.ebayimg.com/thumbs/images/g/P-oAAOSwV9Zh-cmv/s-l225.jpg\"/></div></a></div>,\n",
       " <div class=\"s-item__image\"><a _sp=\"p2351460.m1686.l8340\" aria-hidden=\"true\" data-carousel-tabindex=\"-1\" data-s-qucx024='{\"eventFamily\":\"LST\",\"eventAction\":\"ACTN\",\"actionKind\":\"NAVSRC\",\"actionKinds\":[\"NAVSRC\"],\"operationId\":\"2351460\",\"flushImmediately\":false,\"eventProperty\":{\"$l\":\"2765114908311435\"}}' href=\"https://www.ebay.com/itm/144394467077?hash=item219e94b705:g:P-oAAOSwV9Zh-cmv&amp;amdata=enc%3AAQAHAAAAsEaT1OsSLZNcwcdnlpRuKxziPw1hxxa1Jtvq8S005%2BUJiutovdWI%2Fl7qLQqnhFjtl5LeVNkULc%2FbLHa%2BhA9HuACfwTBXQq7UrbVIrDo4v4P4VuW5qTZEzTZJ%2BKSifoZqlHlDIymeDctm2dJ0LxwaXqnwbM4M%2BSRx6tul0HOn0igVJaCIKf%2FNzIlmrPq1MsAFy%2Bp0bsOyQgi1DLIG9MJ5%2FoQmFPG6AO62mnjNRV9g8%2FQh%7Ctkp%3ABk9SR4jv5IvGYQ\" tabindex=\"-1\" target=\"_blank\"><div class=\"s-item__image-wrapper image-treatment\"><img alt=\"Colorful IGame iGame960 U-4GD5 Graphics Card V2\" loading=\"lazy\" onerror=\"window.SRP.metrics.incrementCounter('imageLoadError');\" onload=\";if(this.width === 80 &amp;&amp; this.height === 80) {window.SRP.metrics.incrementCounter('imageEmptyError');}\" src=\"https://i.ebayimg.com/thumbs/images/g/P-oAAOSwV9Zh-cmv/s-l225.jpg\"/></div></a></div>,\n",
       " <div class=\"s-item__image\"><a _sp=\"p2351460.m1686.l8340\" aria-hidden=\"true\" data-carousel-tabindex=\"-1\" data-s-qucx024='{\"eventFamily\":\"LST\",\"eventAction\":\"ACTN\",\"actionKind\":\"NAVSRC\",\"actionKinds\":[\"NAVSRC\"],\"operationId\":\"2351460\",\"flushImmediately\":false,\"eventProperty\":{\"$l\":\"2765114913738204\"}}' href=\"https://www.ebay.com/itm/165277672160?hash=item267b5122e0:g:52YAAOSw61Fh3Zkn&amp;amdata=enc%3AAQAHAAAA8PH46am7hkG4FBouiNzi3j0iYwxjziPR0h7%2FRs8ZH3q2UGDS89IqTDtfO4F6rWFTCxHP%2FhL%2FwTXHTe18yHtxaFJVacr2ZuShrSPM3RXGLueSmgqGZIIGrogKDazMQpQJuladpU4SKUba46Unq3SCOsV60JFaXUlfKP1LdlHA3y3%2FZ94XidS57gNcSApVzaCBJkr61PMy9OiI6PjNlirH8uQJQZAvYFWHItYDbIPAMggytiBMGzgzqHPU%2FGL87JMhXQpJCx2nNvvNNbRlyV1q5ySey%2FGTYz9R%2Bez32YZ3wWLwAtgx2WKOpAnH7hd%2BOXv%2FPw%3D%3D%7Ctkp%3ABFBMiO_ki8Zh\" tabindex=\"-1\" target=\"_blank\"><div class=\"s-item__image-wrapper image-treatment\"><img alt=\"Colorful NVIDIA GeForce GTX 1650 D6 4GB GDDR6 Battle AX Graphics Card\" loading=\"lazy\" onerror=\"window.SRP.metrics.incrementCounter('imageLoadError');\" onload=\";if(this.width === 80 &amp;&amp; this.height === 80) {window.SRP.metrics.incrementCounter('imageEmptyError');}\" src=\"https://i.ebayimg.com/thumbs/images/g/52YAAOSw61Fh3Zkn/s-l225.jpg\"/></div></a></div>,\n",
       " <div class=\"s-item__image\"><a _sp=\"p2351460.m1686.l8340\" aria-hidden=\"true\" data-carousel-tabindex=\"-1\" data-s-qucx024='{\"eventFamily\":\"LST\",\"eventAction\":\"ACTN\",\"actionKind\":\"NAVSRC\",\"actionKinds\":[\"NAVSRC\"],\"operationId\":\"2351460\",\"flushImmediately\":false,\"eventProperty\":{\"$l\":\"2765114914406091\"}}' href=\"https://www.ebay.com/itm/144211459200?hash=item2193ac3c80:g:quwAAOSw2M5hSaae&amp;amdata=enc%3AAQAHAAAA8BqG43D54FSK%2F7uhaXuKdfRmrweiAMFT6hVHfu2XAqyuavLSA8TApsreeSs1JNhcqgMfH%2F0uk32XXDpMLEEpCxEBpjAMd%2BE2B3iERsbc6UDSIuO4HNLanYeKok6ikHKI22JBlzimOAs6SxPZzfl0rpWjvFetBvTcV%2BpVItH37pktWhxUB7gRtXZQHtT1NjVc2dQjvN3Cgii%2BKtspF388jcsXsdBNVaON%2FmJUM73mTF39Fdo3wvq%2FUQAPXN%2BO7iL8swJb%2F6iKUIHbwuZMB324UZpXNRBUIJfpF66erCNDa5edi24Ra6hkMKREyzcoTL7Xcg%3D%3D%7Ctkp%3ABFBMiO_ki8Zh\" tabindex=\"-1\" target=\"_blank\"><div class=\"s-item__image-wrapper image-treatment\"><img alt=\"Colorful GeForce GT710-2GD3-V3 2GB Graphics Card\" loading=\"lazy\" onerror=\"window.SRP.metrics.incrementCounter('imageLoadError');\" onload=\";if(this.width === 80 &amp;&amp; this.height === 80) {window.SRP.metrics.incrementCounter('imageEmptyError');}\" src=\"https://i.ebayimg.com/thumbs/images/g/quwAAOSw2M5hSaae/s-l225.jpg\"/></div></a></div>,\n",
       " <div class=\"s-item__image\"><a _sp=\"p2351460.m1686.l8340\" aria-hidden=\"true\" data-carousel-tabindex=\"-1\" data-s-qucx024='{\"eventFamily\":\"LST\",\"eventAction\":\"ACTN\",\"actionKind\":\"NAVSRC\",\"actionKinds\":[\"NAVSRC\"],\"operationId\":\"2351460\",\"flushImmediately\":false,\"eventProperty\":{\"$l\":\"2765114914956103\"}}' href=\"https://www.ebay.com/itm/165277713945?hash=item267b51c619:g:zAMAAOSwypJh3Z3l&amp;amdata=enc%3AAQAHAAAA8BUtS3VU4pBmdz5JHDcvwikkMDS9PU6ByrQQouJFvW%2BgwUJH5vQPU3kX9U8exvnh5OC5s9%2F8PfScVoICMTdW7%2FWiDzGbBh%2FocesY%2FhS4EFC6%2FxLf6jZfi4k%2Bp5cVLc07uXqsp4qus8pFEccsDQmX73ngjxhT%2FV7DXX08eEBdllc9QrcQ%2Be2WK4ffrao2MbC9uSbtt6kSprOhHNyx7WlGDs%2FvqxvpIIPTjKOcoXQPyndx0FslnCqDfDE92UX2dKbNBPa5yym7CFFGMr2zl%2BWu790UuwbYrn%2BqGLXIMTxbmkuWuPP03PHvfA4VNTkGdlcy6Q%3D%3D%7Ctkp%3ABFBMiO_ki8Zh\" tabindex=\"-1\" target=\"_blank\"><div class=\"s-item__image-wrapper image-treatment\"><img alt=\"Colorful NVidia GTX 1660 SUPER Battle-Ax NB 6G V2 GDDR6 6GB Graphics Card\" loading=\"lazy\" onerror=\"window.SRP.metrics.incrementCounter('imageLoadError');\" onload=\";if(this.width === 80 &amp;&amp; this.height === 80) {window.SRP.metrics.incrementCounter('imageEmptyError');}\" src=\"https://i.ebayimg.com/thumbs/images/g/zAMAAOSwypJh3Z3l/s-l225.jpg\"/></div></a></div>,\n",
       " <div class=\"s-item__image\"><a _sp=\"p2351460.m1686.l8340\" aria-hidden=\"true\" data-carousel-tabindex=\"-1\" data-s-qucx024='{\"eventFamily\":\"LST\",\"eventAction\":\"ACTN\",\"actionKind\":\"NAVSRC\",\"actionKinds\":[\"NAVSRC\"],\"operationId\":\"2351460\",\"flushImmediately\":false,\"eventProperty\":{\"$l\":\"2765114915550394\"}}' href=\"https://www.ebay.com/itm/144375971811?hash=item219d7a7fe3:g:Y40AAOSwgmFh5rXc&amp;amdata=enc%3AAQAHAAAAsF6%2FT31BWNkVsV1TvZLFowRhbwTM7cSiLIx%2FPrR1AEe9gGYqb1hHJFzp6vekm7CB6ce5qTxEx%2FgTWuRROqRfCFfWRkuPyi5PyRhMclUuRUR4rtUcrWnjz9O%2BhSuYtbQ1aY%2Fnu%2FRrcDknophVE9vOdGVgtlY6pInCW3FoA6W2tkC0siz6miJlXIXlX2%2FrlRcGUKHZvHL%2BGr8M%2BvGl0SRsUgyYkDdQiPFxFthzHeV%2FwGGp%7Ctkp%3ABk9SR4jv5IvGYQ\" tabindex=\"-1\" target=\"_blank\"><div class=\"s-item__image-wrapper image-treatment\"><img alt=\"Graphics Card Video Card nvidia Geforce GTX 1660 Super DDR6 6GB GPU Colourful\" loading=\"lazy\" onerror=\"window.SRP.metrics.incrementCounter('imageLoadError');\" onload=\";if(this.width === 80 &amp;&amp; this.height === 80) {window.SRP.metrics.incrementCounter('imageEmptyError');}\" src=\"https://i.ebayimg.com/thumbs/images/g/Y40AAOSwgmFh5rXc/s-l225.jpg\"/></div></a></div>,\n",
       " <div class=\"s-item__image\"><a _sp=\"p2351460.m1686.l8340\" aria-hidden=\"true\" data-carousel-tabindex=\"-1\" data-s-qucx024='{\"eventFamily\":\"LST\",\"eventAction\":\"ACTN\",\"actionKind\":\"NAVSRC\",\"actionKinds\":[\"NAVSRC\"],\"operationId\":\"2351460\",\"flushImmediately\":false,\"eventProperty\":{\"$l\":\"2765114916090455\"}}' href=\"https://www.ebay.com/itm/403581554782?hash=item5df755d05e:g:Pt4AAOSwF0Vh~GFx&amp;amdata=enc%3AAQAHAAAAsBZfm1z38rWkRb5imsNtLeESa1BFotW0OK8FFJUFN0ThCLiBnp6tyyQlwzROEZFmq0K9uBKQN1EVLkyQJq9KpK0xqpLjWUlZHV6Bn4OnpI9YO0udfv0187El8oxO6S28UMMgkO7HswtXCfEV6GerBsrou8Rj%2FghmB%2F3tHsW2uHPuKnu3tBVAbh2r81Rwrd2vmRpJys2ux5Vu%2FgDQIfpUmObumhcFVkrTiioO%2F8GbEn2L%7Ctkp%3ABk9SR4jv5IvGYQ\" tabindex=\"-1\" target=\"_blank\"><div class=\"s-item__image-wrapper image-treatment\"><img alt=\"Nvidia geforce gtx 1650 super 4gb graphics card\" loading=\"lazy\" onerror=\"window.SRP.metrics.incrementCounter('imageLoadError');\" onload=\";if(this.width === 80 &amp;&amp; this.height === 80) {window.SRP.metrics.incrementCounter('imageEmptyError');}\" src=\"https://i.ebayimg.com/thumbs/images/g/Pt4AAOSwF0Vh~GFx/s-l225.jpg\"/></div></a></div>,\n",
       " <div class=\"s-item__image\"><a _sp=\"p2351460.m1686.l8340\" aria-hidden=\"true\" data-carousel-tabindex=\"-1\" data-s-qucx024='{\"eventFamily\":\"LST\",\"eventAction\":\"ACTN\",\"actionKind\":\"NAVSRC\",\"actionKinds\":[\"NAVSRC\"],\"operationId\":\"2351460\",\"flushImmediately\":false,\"eventProperty\":{\"$l\":\"2765114916604164\"}}' href=\"https://www.ebay.com/itm/165184895360?hash=item2675c97980:g:0cEAAOSwrGVhkwoH&amp;amdata=enc%3AAQAHAAAA8JzC4KQE1hDxkHbWPsAZowCurV8zwCC3hQTuv4hKix9LEXFPufzzK%2BdRfgQMhwM3%2BxPb7jZQPyPGLzUAq0ZIoaE1tB65dDsAP6hXS2d9TTKhKNTNfbJ0D2rD1g5ww4t15xTrS%2BPf0vYgakUdcJRRJ4BOrJ%2FELRQHGsYbOBw261dClFcJ4vuvipEemSH9Sse23Xpl3Rv2uoCwcdATG6U%2FSUCnwQnOO6TX7GVov%2FL3oIrgx03MyN3W%2BG60FyexVQFXycrDF3OhHIMUfO2ve12hAw063k8xl3ZdjwFi0t7fAmSTyhIaVmxQx3ZZDsSpcZDhzw%3D%3D%7Ctkp%3ABk9SR4jv5IvGYQ\" tabindex=\"-1\" target=\"_blank\"><div class=\"s-item__image-wrapper image-treatment\"><img alt=\"Colourful RTX2060 6GB DUAL PCIe Graphics Card DUAL Fan 6GB GDDR6 RTX 2060 Video \" loading=\"lazy\" onerror=\"window.SRP.metrics.incrementCounter('imageLoadError');\" onload=\";if(this.width === 80 &amp;&amp; this.height === 80) {window.SRP.metrics.incrementCounter('imageEmptyError');}\" src=\"https://i.ebayimg.com/thumbs/images/g/0cEAAOSwrGVhkwoH/s-l225.jpg\"/></div></a></div>,\n",
       " <div class=\"s-item__image\"><a _sp=\"p2351460.m1686.l8340\" aria-hidden=\"true\" data-carousel-tabindex=\"-1\" data-s-qucx024='{\"eventFamily\":\"LST\",\"eventAction\":\"ACTN\",\"actionKind\":\"NAVSRC\",\"actionKinds\":[\"NAVSRC\"],\"operationId\":\"2351460\",\"flushImmediately\":false,\"eventProperty\":{\"$l\":\"2765114917136574\"}}' href=\"https://www.ebay.com/itm/134012303995?hash=item1f33c17a7b:g:P-oAAOSwV9Zh-cmv&amp;amdata=enc%3AAQAHAAAAsPpb%2FqRdMmDnZZFnZCTwDy4r2EaSWhio0LzlptU4MipfHiFM3ZUfrRB3M769bjxYKae1Qrw6Xm%2B%2FYJasAQ5IVhSh0bMyYGnq4i8EZZRuy4%2FY80hEJ9S47TYByGksl7rSitqTlnBxySE0xFCposx0tJmIgVX9Eooji6x55acs%2FpYX5IZS5aUat82BMkL%2FmQnu0Ih%2FmnkQBUTo73CJ6pDXG9lUBLc%2Fy%2FqtsDKlHE6%2Bd9z8%7Ctkp%3ABk9SR4jv5IvGYQ\" tabindex=\"-1\" target=\"_blank\"><div class=\"s-item__image-wrapper image-treatment\"><img alt=\"Colorful IGame iGame960 U-4GD5 Graphics Card V2\" loading=\"lazy\" onerror=\"window.SRP.metrics.incrementCounter('imageLoadError');\" onload=\";if(this.width === 80 &amp;&amp; this.height === 80) {window.SRP.metrics.incrementCounter('imageEmptyError');}\" src=\"https://i.ebayimg.com/thumbs/images/g/P-oAAOSwV9Zh-cmv/s-l225.jpg\"/></div></a></div>,\n",
       " <div class=\"s-item__image\"><a _sp=\"p2351460.m1686.l8340\" aria-hidden=\"true\" data-carousel-tabindex=\"-1\" data-s-qucx024='{\"eventFamily\":\"LST\",\"eventAction\":\"ACTN\",\"actionKind\":\"NAVSRC\",\"actionKinds\":[\"NAVSRC\"],\"operationId\":\"2351460\",\"flushImmediately\":false,\"eventProperty\":{\"$l\":\"2765114917695099\"}}' href=\"https://www.ebay.com/itm/204225755790?hash=item2f8ccdba8e:g:YTYAAOSwCFpj00hN&amp;amdata=enc%3AAQAHAAAAsIDMBm2tQi2LqgOdZrRcHFycpVuLggTC78d8NwIX4ZLmnnQ2oNStEAat4QfVlM1CWxtZSussNThGWjAbrDp5p8Sus3BEWHJ3WUzVruU0YTjt12L9xLVUlvF2uebhaitd0LioxRuiy7hAWAhlfjgSiPt41J1Dq%2BDVHLBDWAHPXDDfJVX2Ecr%2FcC1kgR6WJn2TDppIHmfqTEp22pkFSQjZaYlkgHgOdAs0DAjAzhokRjMg%7Ctkp%3ABk9SR4jv5IvGYQ\" tabindex=\"-1\" target=\"_blank\"><div class=\"s-item__image-wrapper image-treatment\"><img alt=\"Colorful GeForce GT 1030 4GB DDR4 RAM Graphics Card with Single Fan\" loading=\"lazy\" onerror=\"window.SRP.metrics.incrementCounter('imageLoadError');\" onload=\";if(this.width === 80 &amp;&amp; this.height === 80) {window.SRP.metrics.incrementCounter('imageEmptyError');}\" src=\"https://i.ebayimg.com/thumbs/images/g/YTYAAOSwCFpj00hN/s-l225.jpg\"/></div></a></div>,\n",
       " <div class=\"s-item__image\"><a _sp=\"p2351460.m1686.l8340\" aria-hidden=\"true\" data-carousel-tabindex=\"-1\" data-s-qucx024='{\"eventFamily\":\"LST\",\"eventAction\":\"ACTN\",\"actionKind\":\"NAVSRC\",\"actionKinds\":[\"NAVSRC\"],\"operationId\":\"2351460\",\"flushImmediately\":false,\"eventProperty\":{\"$l\":\"2765114918171825\"}}' href=\"https://www.ebay.com/itm/175358435685?hash=item28d42d6165:g:pr8AAOSwUYph1UwT&amp;amdata=enc%3AAQAHAAAAsAPsi7L54aMVF8Ppx0u0naezAj1MExhDSikj%2B1ku5bLgayjMggj8xi2ieuPjt69jCgmMYvSzRoSRQSbO%2Fx%2FCUn6e4ygdbmFElw%2Bf2WJIToUeIBxnHR62XgU2AkknmiwZ1rpH27eDCjWAiZPGRd6XhXShdgZeDnDAKNNtnTFw4teZXmaSIv%2B99gvsGQsrYzIhpuWR8TDDz%2Fvpj0yMYFrEJjVHr56ARts9pwjHv%2FDXkHcl%7Ctkp%3ABk9SR4jv5IvGYQ\" tabindex=\"-1\" target=\"_blank\"><div class=\"s-item__image-wrapper image-treatment\"><img alt=\"Pair Fans Cooler Fan For Colorful GTX 1650 GTX1660Ti RTX 2060 87mm Graphics Card\" loading=\"lazy\" onerror=\"window.SRP.metrics.incrementCounter('imageLoadError');\" onload=\";if(this.width === 80 &amp;&amp; this.height === 80) {window.SRP.metrics.incrementCounter('imageEmptyError');}\" src=\"https://i.ebayimg.com/thumbs/images/g/pr8AAOSwUYph1UwT/s-l225.jpg\"/></div></a></div>,\n",
       " <div class=\"s-item__image\"><a _sp=\"p2351460.m1686.l8340\" aria-hidden=\"true\" data-carousel-tabindex=\"-1\" data-s-qucx024='{\"eventFamily\":\"LST\",\"eventAction\":\"ACTN\",\"actionKind\":\"NAVSRC\",\"actionKinds\":[\"NAVSRC\"],\"operationId\":\"2351460\",\"flushImmediately\":false,\"eventProperty\":{\"$l\":\"2765114918817615\"}}' href=\"https://www.ebay.com/itm/144442662145?hash=item21a1741d01:g:P-oAAOSwV9Zh-cmv&amp;amdata=enc%3AAQAHAAAAsLbVgU6qIZq3JOgvOPOMUwyKMsDGEAApsdkvVCTdzQUxXvBuRS0XFCtfCxx9F2OZNeNuRKRAhX2kPAibL%2BtnAcpJGRcTMuEB0yxcnQ9mf%2Fbr6Hc0g1moysYJu8X9yHnEIWQGRVkUetRL2bnO2dn5huBUvNqChScdnlmgbfcsumQJsqz81bvPtDtytByovQYbigqhHrgT3uCJHhR0nDUJ2KohGefJlNwuc2f37OU1YquP%7Ctkp%3ABk9SR4jv5IvGYQ\" tabindex=\"-1\" target=\"_blank\"><div class=\"s-item__image-wrapper image-treatment\"><img alt=\"Colorful IGame iGame960 U-4GD5 Graphics Card V2\" loading=\"lazy\" onerror=\"window.SRP.metrics.incrementCounter('imageLoadError');\" onload=\";if(this.width === 80 &amp;&amp; this.height === 80) {window.SRP.metrics.incrementCounter('imageEmptyError');}\" src=\"https://i.ebayimg.com/thumbs/images/g/P-oAAOSwV9Zh-cmv/s-l225.jpg\"/></div></a></div>,\n",
       " <div class=\"s-item__image\"><a _sp=\"p2351460.m1686.l8340\" aria-hidden=\"true\" data-carousel-tabindex=\"-1\" data-s-qucx024='{\"eventFamily\":\"LST\",\"eventAction\":\"ACTN\",\"actionKind\":\"NAVSRC\",\"actionKinds\":[\"NAVSRC\"],\"operationId\":\"2351460\",\"flushImmediately\":false,\"eventProperty\":{\"$l\":\"2765114919375103\"}}' href=\"https://www.ebay.com/itm/134012286796?hash=item1f33c1374c:g:P-oAAOSwV9Zh-cmv&amp;amdata=enc%3AAQAHAAAAsM4gfOMrkXJ25BB5oh5YVzURY2SVH1TPAhF9%2FOGBrbbTQw4Mxu1jpoweDFrlHYEK75gsMwGiStcUKSB%2FKhoIxLzHcT9Z6BzhYiDGCAU%2B5KXIWgUlKoIWo%2B88riuW2oc3mvTZ%2FUhy6uzAasqxhbtgKIL25jjAAKtzmJ8UNCr2o6DvlXuobhNT9b5cZSJC6cB9BW6kDmRwuqu0JszyQKHIYp3FLdcmDDDUin7jBz9vbSuX%7Ctkp%3ABk9SR4jv5IvGYQ\" tabindex=\"-1\" target=\"_blank\"><div class=\"s-item__image-wrapper image-treatment\"><img alt=\"Colorful IGame iGame960 U-4GD5 Graphics Card V2\" loading=\"lazy\" onerror=\"window.SRP.metrics.incrementCounter('imageLoadError');\" onload=\";if(this.width === 80 &amp;&amp; this.height === 80) {window.SRP.metrics.incrementCounter('imageEmptyError');}\" src=\"https://i.ebayimg.com/thumbs/images/g/P-oAAOSwV9Zh-cmv/s-l225.jpg\"/></div></a></div>]"
      ]
     },
     "execution_count": 203,
     "metadata": {},
     "output_type": "execute_result"
    }
   ],
   "source": [
    "img_items.find_all('div',{'class':'s-item__image'})"
   ]
  },
  {
   "cell_type": "code",
   "execution_count": null,
   "id": "0e8879b3",
   "metadata": {},
   "outputs": [],
   "source": []
  }
 ],
 "metadata": {
  "kernelspec": {
   "display_name": "Python 3 (ipykernel)",
   "language": "python",
   "name": "python3"
  },
  "language_info": {
   "codemirror_mode": {
    "name": "ipython",
    "version": 3
   },
   "file_extension": ".py",
   "mimetype": "text/x-python",
   "name": "python",
   "nbconvert_exporter": "python",
   "pygments_lexer": "ipython3",
   "version": "3.8.13"
  }
 },
 "nbformat": 4,
 "nbformat_minor": 5
}
